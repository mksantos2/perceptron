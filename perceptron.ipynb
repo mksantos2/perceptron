{
  "nbformat": 4,
  "nbformat_minor": 0,
  "metadata": {
    "colab": {
      "name": "perceptron.ipynb",
      "version": "0.3.2",
      "provenance": [],
      "collapsed_sections": []
    },
    "kernelspec": {
      "display_name": "Python 3",
      "language": "python",
      "name": "python3"
    }
  },
  "cells": [
    {
      "metadata": {
        "id": "wclXY6x8OnRH",
        "colab_type": "text"
      },
      "cell_type": "markdown",
      "source": [
        "# Objetivos deste trabalho:\n",
        "- Se familiarizar com o ambiente Notebook e com Python\n",
        "- Implementar um perceptron simples, treiná-lo no conjunto de TREINO do CIFAR-10 e avaliá-lo no conjunto de TESTE (alvo: distinguir fotos de animais de meios de transporte)\n",
        "- Utilizar a função sigmóide e verificar seu efeito no treinamento e na avaliação\n",
        "- Modificar a metodologia para classificar cada classe individualmente (i.e. treinar 10 perceptrons, um para cada classe). Considerar: dado um exemplo, que passará por cada perceptron, como decidir qual é a classe dele?"
      ]
    },
    {
      "metadata": {
        "id": "d1nI6zcuOnRS",
        "colab_type": "code",
        "outputId": "a810dc7a-acd0-4d17-8bf2-1bde6ae21a1a",
        "colab": {
          "base_uri": "https://localhost:8080/",
          "height": 34
        }
      },
      "cell_type": "code",
      "source": [
        "%matplotlib inline\n",
        "\n",
        "import torch\n",
        "import torchvision\n",
        "import numpy as np\n",
        "import seaborn as sn\n",
        "import pandas as pd\n",
        "from sklearn.metrics import confusion_matrix\n",
        "\n",
        "np.seterr(all='raise')"
      ],
      "execution_count": 0,
      "outputs": [
        {
          "output_type": "execute_result",
          "data": {
            "text/plain": [
              "{'divide': 'raise', 'invalid': 'raise', 'over': 'raise', 'under': 'raise'}"
            ]
          },
          "metadata": {
            "tags": []
          },
          "execution_count": 55
        }
      ]
    },
    {
      "metadata": {
        "id": "qrXzUPBFOnR2",
        "colab_type": "code",
        "outputId": "81a2e7bb-e9d9-4bd0-b490-5949faef8ef8",
        "colab": {
          "base_uri": "https://localhost:8080/",
          "height": 52
        }
      },
      "cell_type": "code",
      "source": [
        "# Carregar os datasets\n",
        "\n",
        "dataset_train = torchvision.datasets.CIFAR10(root='./data', train=True,\n",
        "                                        download=True)\n",
        "\n",
        "dataset_test = torchvision.datasets.CIFAR10(root='./data', train=False,\n",
        "                                        download=True)"
      ],
      "execution_count": 0,
      "outputs": [
        {
          "output_type": "stream",
          "text": [
            "Files already downloaded and verified\n",
            "Files already downloaded and verified\n"
          ],
          "name": "stdout"
        }
      ]
    },
    {
      "metadata": {
        "id": "2CwnmCV1OnSN",
        "colab_type": "code",
        "colab": {}
      },
      "cell_type": "code",
      "source": [
        "classes = ('plane', 'car', 'bird', 'cat',\n",
        "           'deer', 'dog', 'frog', 'horse', 'ship', 'truck')"
      ],
      "execution_count": 0,
      "outputs": []
    },
    {
      "metadata": {
        "id": "DMbRYNbkOnSd",
        "colab_type": "code",
        "outputId": "e4f045b3-ff37-4fa0-83b0-13612defd0e1",
        "colab": {
          "base_uri": "https://localhost:8080/",
          "height": 34
        }
      },
      "cell_type": "code",
      "source": [
        "print(len(dataset_train), len(dataset_test))"
      ],
      "execution_count": 0,
      "outputs": [
        {
          "output_type": "stream",
          "text": [
            "50000 10000\n"
          ],
          "name": "stdout"
        }
      ]
    },
    {
      "metadata": {
        "id": "Efywy0_EOnSs",
        "colab_type": "code",
        "colab": {}
      },
      "cell_type": "code",
      "source": [
        "# Converter para tons de cinza\n",
        "\n",
        "# Treino\n",
        "grayscale_dataset_train = []\n",
        "for img,label in dataset_train:\n",
        "    category = classes[label]\n",
        "    gray_npimg = np.array(img.convert('L'))\n",
        "    grayscale_dataset_train.append((gray_npimg,category))\n",
        "    \n",
        "# Teste\n",
        "grayscale_dataset_test = []\n",
        "for img,label in dataset_test:\n",
        "    category = classes[label]\n",
        "    gray_npimg = np.array(img.convert('L'))\n",
        "    grayscale_dataset_test.append((gray_npimg,category))    "
      ],
      "execution_count": 0,
      "outputs": []
    },
    {
      "metadata": {
        "id": "aaGzl5T-OnS3",
        "colab_type": "code",
        "outputId": "1c84decc-9e1d-4d13-9df1-e41c8d655cfb",
        "colab": {
          "base_uri": "https://localhost:8080/",
          "height": 280
        }
      },
      "cell_type": "code",
      "source": [
        "# Mostrar uma imagem\n",
        "\n",
        "import matplotlib.pyplot as plt\n",
        "import numpy as np\n",
        "\n",
        "image_index = 1\n",
        "label = grayscale_dataset_train[image_index][1]\n",
        "npimg = grayscale_dataset_train[image_index][0]\n",
        "\n",
        "plt.imshow(npimg, cmap='gray')\n",
        "plt.title(label)\n",
        "plt.show()"
      ],
      "execution_count": 0,
      "outputs": [
        {
          "output_type": "display_data",
          "data": {
            "image/png": "[encoded data removed]",
            "text/plain": [
              "<Figure size 432x288 with 1 Axes>"
            ]
          },
          "metadata": {
            "tags": []
          }
        }
      ]
    },
    {
      "metadata": {
        "id": "tCGPS4nHOnTM",
        "colab_type": "code",
        "colab": {}
      },
      "cell_type": "code",
      "source": [
        "# Converter para vetores 1D\n",
        "\n",
        "# Para pensar: por que a divisão por 255 no código abaixo?\n",
        "\n",
        "linear_dataset_train = []\n",
        "target_labels = ('plane', 'car', 'ship', 'truck')\n",
        "for img,category in grayscale_dataset_train:\n",
        "    linear_img = img.reshape(img.shape[0]*img.shape[1],1) / 255\n",
        "    if category in target_labels:\n",
        "        label = 1\n",
        "    else:\n",
        "        label = 0\n",
        "    linear_dataset_train.append((linear_img,label))\n",
        "    \n",
        "linear_dataset_test = []\n",
        "target_labels = ('plane', 'car', 'ship', 'truck')\n",
        "for img,category in grayscale_dataset_test:\n",
        "    linear_img = img.reshape(img.shape[0]*img.shape[1],1) / 255\n",
        "    if category in target_labels:\n",
        "        label = 1\n",
        "    else:\n",
        "        label = 0\n",
        "    linear_dataset_test.append((linear_img,label))    "
      ],
      "execution_count": 0,
      "outputs": []
    },
    {
      "metadata": {
        "id": "SpzEHXydOnTg",
        "colab_type": "code",
        "outputId": "afad5ccd-aa8a-479b-e52c-8e10c2d2b1be",
        "colab": {
          "base_uri": "https://localhost:8080/",
          "height": 34
        }
      },
      "cell_type": "code",
      "source": [
        "size = len(linear_dataset_train[0][0])\n",
        "print(size)"
      ],
      "execution_count": 0,
      "outputs": [
        {
          "output_type": "stream",
          "text": [
            "1024\n"
          ],
          "name": "stdout"
        }
      ]
    },
    {
      "metadata": {
        "id": "Szy2G5LROnT-",
        "colab_type": "text"
      },
      "cell_type": "markdown",
      "source": [
        "# Definindo o perceptron"
      ]
    },
    {
      "metadata": {
        "id": "owvpakmUOnUJ",
        "colab_type": "code",
        "colab": {}
      },
      "cell_type": "code",
      "source": [
        "def sigmoid(x):\n",
        "    return 1/(1+np.exp(-x))\n",
        "\n",
        "def perceptron(inputs, weights):\n",
        "    # Defina o perceptron aqui\n",
        "   \n",
        "    #y=0\n",
        "    o=np.dot(inputs, weights)\n",
        "            \n",
        "    y = sigmoid(o)\n",
        "    return y\n"
      ],
      "execution_count": 0,
      "outputs": []
    },
    {
      "metadata": {
        "id": "vK-m_EH5OnUU",
        "colab_type": "code",
        "colab": {}
      },
      "cell_type": "code",
      "source": [
        "# Caso queiram plotar alguma coisa\n",
        "y_test = linear_dataset_test[:2]\n",
        "\n",
        "def printGraph(accuracies, losses_):\n",
        "    import matplotlib.pyplot as plt\n",
        "    plt.xlabel(\"Epoca\")\n",
        "    plt.ylabel(\"Acurácia\")\n",
        "    plt.title(\"Gráfico Acurácia\")\n",
        "    plt.plot(accuracies)\n",
        "    plt.show()\n",
        "    \n",
        "    plt.xlabel(\"Epoca\")\n",
        "    plt.ylabel(\"Loss\")\n",
        "    plt.title(\"Gráfico Loss\")\n",
        "    plt.plot(losses_)\n",
        "    plt.show()"
      ],
      "execution_count": 0,
      "outputs": []
    },
    {
      "metadata": {
        "id": "upz_CkIcOnUg",
        "colab_type": "text"
      },
      "cell_type": "markdown",
      "source": [
        "# Treinando o perceptron"
      ]
    },
    {
      "metadata": {
        "id": "vS7dZDOgOnUl",
        "colab_type": "code",
        "colab": {}
      },
      "cell_type": "code",
      "source": [
        "#avaliacao\n",
        "\n",
        "evaluate_final = 0\n",
        "classe_final = \"none\"\n",
        "\n",
        "def evaluate(weights, dataset, classe=\"none\"):\n",
        "    \n",
        "    \n",
        "    np.random.shuffle(dataset)\n",
        "\n",
        "    # Implemente o treino aqui (para separar as duas classes definidas)\n",
        "    #colocar falso positivo etc\n",
        "    accuracies_test = []\n",
        "    losses_test  = []\n",
        "    #y_pred = []\n",
        "    sim = 0\n",
        "    nao = 0\n",
        "    losses = 0\n",
        "    \n",
        "    for img,category in dataset:\n",
        "        img = np.append(img, 1)      \n",
        "        ys = perceptron(img,weights)\n",
        "        if ys >= 0.5 and category==1:\n",
        "            sim+=1\n",
        "            #yhat=1\n",
        "        elif ys<0.5 and category==0:\n",
        "            sim+=1\n",
        "            #yhat=1\n",
        "        elif ys<0.5 and category==1:\n",
        "            nao+=1\n",
        "            #yhat=0    \n",
        "        elif ys >= 0.5 and category==0:\n",
        "            nao+=1\n",
        "            #yhat=0\n",
        "\n",
        "        loss = (category - ys)**2 \n",
        "        losses_test = np.append(losses_test, loss)\n",
        "        loss=0\n",
        "        #y_pred= np.append(y_pred, yhat)\n",
        "     \n",
        "           \n",
        "    ac = sim/len(dataset)\n",
        "    #accuracies_test = np.append(accuracies_test,ac)\n",
        "    print(\"Acurácia Avaliação: \", ac) \n",
        "    #if classe!=\"none\":\n",
        "      #evaluate_class(classe, ac)\n",
        "   \n",
        "    #return y_pred\n",
        "    \n",
        "   "
      ],
      "execution_count": 0,
      "outputs": []
    },
    {
      "metadata": {
        "id": "ZsT1fOUBOnU0",
        "colab_type": "code",
        "colab": {}
      },
      "cell_type": "code",
      "source": [
        "# Treinamento\n",
        "# No treinamento foi setada uma constante de valor 10, que serve para \"balancear\" os acertos e conseguir uma acurácia que converge. No caso a variável extra é multiplicada nos pesos somente quando há um TP ou FP  \n",
        "def training(dataset):\n",
        "    weights = (np.random.rand(1,size) - 0.5)[0]\n",
        "    bias = (np.random.rand(1) - 0.5) \n",
        "    weights = np.append(weights, bias) \n",
        "\n",
        "    neta = 0.001\n",
        "    np.random.shuffle(dataset)\n",
        "\n",
        "    # Implemente o treino aqui (para separar as duas classes definidas)\n",
        "    \n",
        "    accuracies = []\n",
        "    sim = 0\n",
        "    nao = 0\n",
        "    losses = 0\n",
        "    extra=1\n",
        "    losses_train  = []\n",
        "    for epoch in range(100):\n",
        "        for img,category in dataset:\n",
        "            img = np.append(img, 1)\n",
        "            ys = perceptron(img,weights)\n",
        "            extra=1\n",
        "            if category == 1:\n",
        "              extra=10\n",
        "            \n",
        "            if ys >= 0.5 and category==1:\n",
        "                sim+=1\n",
        "                 \n",
        "            elif ys<0.5 and category==0:\n",
        "                sim+=1\n",
        "                \n",
        "\n",
        "            delta = neta * img * (category - ys) * (ys*(1-ys)) * extra\n",
        "\n",
        "            weights+=delta;\n",
        "\n",
        "            loss = (category - ys)**2\n",
        "\n",
        "            losses+=loss\n",
        "\n",
        "            loss = 0\n",
        "\n",
        "        ac = sim/len(dataset)\n",
        "        accuracies = np.append(accuracies,ac)\n",
        "        sim = 0\n",
        "        print(\"Época: \", epoch, \"Loss Treinamento: \", losses, \"Acurácia Treinamento: \", ac)\n",
        "        losses_train = np.append(losses_train, losses)\n",
        "        losses=0\n",
        "\n",
        "    printGraph(accuracies, losses_train)    \n",
        "    return weights\n",
        "    \n",
        "    \n",
        "  \n",
        "    "
      ],
      "execution_count": 0,
      "outputs": []
    },
    {
      "metadata": {
        "id": "D-Cm1RqPOnU8",
        "colab_type": "code",
        "colab": {}
      },
      "cell_type": "code",
      "source": [
        "# graphs_training\n",
        "\n",
        "#new_weights = training(linear_dataset_train)\n",
        "\n"
      ],
      "execution_count": 0,
      "outputs": []
    },
    {
      "metadata": {
        "id": "y49ipnOpOnVN",
        "colab_type": "code",
        "colab": {}
      },
      "cell_type": "code",
      "source": [
        "#y_pred = \n",
        "#evaluate(new_weights, linear_dataset_test)\n",
        "\n",
        "#from sklearn.metrics import accuracy_score\n",
        "#sklearn.metrics.accuracy_score(y_test, y_pred)\n",
        "#sklearn.metrics.accuracy_score(y_test, y_pred, normalize=True, sample_weight=None)[source]\n"
      ],
      "execution_count": 0,
      "outputs": []
    },
    {
      "metadata": {
        "id": "OAz_FdPbOnVa",
        "colab_type": "text"
      },
      "cell_type": "markdown",
      "source": [
        "# Classificando classes individuais\n",
        "\n",
        "Implemente aqui a modificação do processo de avaliação e treinamento para poder classificar cada classe individualmente.\n",
        "\n",
        "- Ideia geral: treinar um perceptron por classe (exemplo positivo = exemplos da classe; exemplos negativos = exemplo de todas outras classes)\n",
        "- Dado um exemplo qualquer, como decidir qual perceptron está dando a classe correta?"
      ]
    },
    {
      "metadata": {
        "id": "ZB6EGCBlOrMV",
        "colab_type": "text"
      },
      "cell_type": "markdown",
      "source": [
        ""
      ]
    },
    {
      "metadata": {
        "id": "0o9UEAvSOnVd",
        "colab_type": "code",
        "colab": {}
      },
      "cell_type": "code",
      "source": [
        "# Gatohs"
      ],
      "execution_count": 0,
      "outputs": []
    },
    {
      "metadata": {
        "id": "TI5uwSrROnV5",
        "colab_type": "code",
        "colab": {}
      },
      "cell_type": "code",
      "source": [
        "linear_dataset_train_cat = []\n",
        "target_labels = ('cat')\n",
        "for img,category in grayscale_dataset_train:\n",
        "    linear_img = img.reshape(img.shape[0]*img.shape[1],1) / 255\n",
        "    if category in target_labels:\n",
        "        label = 1\n",
        "    else:\n",
        "        label = 0\n",
        "    linear_dataset_train_cat.append((linear_img,label))\n",
        "    \n",
        "linear_dataset_test_cat = []\n",
        "target_labels = ('cat')\n",
        "for img,category in grayscale_dataset_test:\n",
        "    linear_img = img.reshape(img.shape[0]*img.shape[1],1) / 255\n",
        "    if category in target_labels:\n",
        "        label = 1\n",
        "    else:\n",
        "        label = 0\n",
        "    linear_dataset_test_cat.append((linear_img,label))    "
      ],
      "execution_count": 0,
      "outputs": []
    },
    {
      "metadata": {
        "id": "qOP54x5gOnWM",
        "colab_type": "code",
        "outputId": "828d41b6-d9b1-4f55-c38f-5d6da9869675",
        "colab": {
          "base_uri": "https://localhost:8080/",
          "height": 2325
        }
      },
      "cell_type": "code",
      "source": [
        "#treinamento \n",
        "\n",
        "new_weights_cat = training(linear_dataset_train_cat)\n",
        "\n",
        "#avaliacao\n",
        "\n",
        "evaluate(new_weights_cat, linear_dataset_test_cat)"
      ],
      "execution_count": 0,
      "outputs": [
        {
          "output_type": "stream",
          "text": [
            "Época:  0 Loss Treinamento:  16872.240228473245 Acurácia Treinamento:  0.50466\n",
            "Época:  1 Loss Treinamento:  14164.00249139454 Acurácia Treinamento:  0.5448\n",
            "Época:  2 Loss Treinamento:  13830.393526121627 Acurácia Treinamento:  0.54748\n",
            "Época:  3 Loss Treinamento:  13626.648202165474 Acurácia Treinamento:  0.54824\n",
            "Época:  4 Loss Treinamento:  13493.350371760574 Acurácia Treinamento:  0.54986\n",
            "Época:  5 Loss Treinamento:  13399.939734582429 Acurácia Treinamento:  0.55122\n",
            "Época:  6 Loss Treinamento:  13330.04094156715 Acurácia Treinamento:  0.55224\n",
            "Época:  7 Loss Treinamento:  13274.940242668072 Acurácia Treinamento:  0.5531\n",
            "Época:  8 Loss Treinamento:  13229.705920254506 Acurácia Treinamento:  0.55282\n",
            "Época:  9 Loss Treinamento:  13191.36492122744 Acurácia Treinamento:  0.5537\n",
            "Época:  10 Loss Treinamento:  13158.039381189643 Acurácia Treinamento:  0.55414\n",
            "Época:  11 Loss Treinamento:  13128.501807047505 Acurácia Treinamento:  0.55494\n",
            "Época:  12 Loss Treinamento:  13101.926742549045 Acurácia Treinamento:  0.55544\n",
            "Época:  13 Loss Treinamento:  13077.744046985455 Acurácia Treinamento:  0.55538\n",
            "Época:  14 Loss Treinamento:  13055.548992918715 Acurácia Treinamento:  0.55556\n",
            "Época:  15 Loss Treinamento:  13035.045850058572 Acurácia Treinamento:  0.55644\n",
            "Época:  16 Loss Treinamento:  13016.0118858291 Acurácia Treinamento:  0.55694\n",
            "Época:  17 Loss Treinamento:  12998.274100869809 Acurácia Treinamento:  0.55746\n",
            "Época:  18 Loss Treinamento:  12981.694037165682 Acurácia Treinamento:  0.55862\n",
            "Época:  19 Loss Treinamento:  12966.157764386631 Acurácia Treinamento:  0.55904\n",
            "Época:  20 Loss Treinamento:  12951.569217327682 Acurácia Treinamento:  0.55992\n",
            "Época:  21 Loss Treinamento:  12937.845716589656 Acurácia Treinamento:  0.5605\n",
            "Época:  22 Loss Treinamento:  12924.914919092555 Acurácia Treinamento:  0.56114\n",
            "Época:  23 Loss Treinamento:  12912.712709144624 Acurácia Treinamento:  0.56156\n",
            "Época:  24 Loss Treinamento:  12901.181710856048 Acurácia Treinamento:  0.5618\n",
            "Época:  25 Loss Treinamento:  12890.270213053329 Acurácia Treinamento:  0.5622\n",
            "Época:  26 Loss Treinamento:  12879.93136981029 Acurácia Treinamento:  0.56238\n",
            "Época:  27 Loss Treinamento:  12870.122586836354 Acurácia Treinamento:  0.56312\n",
            "Época:  28 Loss Treinamento:  12860.805034832945 Acurácia Treinamento:  0.5637\n",
            "Época:  29 Loss Treinamento:  12851.943251198443 Acurácia Treinamento:  0.56398\n",
            "Época:  30 Loss Treinamento:  12843.504804720058 Acurácia Treinamento:  0.56446\n",
            "Época:  31 Loss Treinamento:  12835.460006570194 Acurácia Treinamento:  0.56474\n",
            "Época:  32 Loss Treinamento:  12827.781656576433 Acurácia Treinamento:  0.56478\n",
            "Época:  33 Loss Treinamento:  12820.444817396352 Acurácia Treinamento:  0.56486\n",
            "Época:  34 Loss Treinamento:  12813.426611596475 Acurácia Treinamento:  0.5654\n",
            "Época:  35 Loss Treinamento:  12806.70603815646 Acurácia Treinamento:  0.5657\n",
            "Época:  36 Loss Treinamento:  12800.26380588503 Acurácia Treinamento:  0.56572\n",
            "Época:  37 Loss Treinamento:  12794.082181862846 Acurácia Treinamento:  0.5659\n",
            "Época:  38 Loss Treinamento:  12788.144853414542 Acurácia Treinamento:  0.56606\n",
            "Época:  39 Loss Treinamento:  12782.436802374767 Acurácia Treinamento:  0.5662\n",
            "Época:  40 Loss Treinamento:  12776.944190583034 Acurácia Treinamento:  0.56652\n",
            "Época:  41 Loss Treinamento:  12771.65425565512 Acurácia Treinamento:  0.56686\n",
            "Época:  42 Loss Treinamento:  12766.5552161714 Acurácia Treinamento:  0.56708\n",
            "Época:  43 Loss Treinamento:  12761.63618548411 Acurácia Treinamento:  0.56748\n",
            "Época:  44 Loss Treinamento:  12756.887093410529 Acurácia Treinamento:  0.56782\n",
            "Época:  45 Loss Treinamento:  12752.29861512687 Acurácia Treinamento:  0.5678\n",
            "Época:  46 Loss Treinamento:  12747.862106628565 Acurácia Treinamento:  0.56802\n",
            "Época:  47 Loss Treinamento:  12743.56954616391 Acurácia Treinamento:  0.5683\n",
            "Época:  48 Loss Treinamento:  12739.413481105921 Acurácia Treinamento:  0.56846\n",
            "Época:  49 Loss Treinamento:  12735.386979750443 Acurácia Treinamento:  0.56842\n",
            "Época:  50 Loss Treinamento:  12731.48358758809 Acurácia Treinamento:  0.56838\n",
            "Época:  51 Loss Treinamento:  12727.697287623043 Acurácia Treinamento:  0.56844\n",
            "Época:  52 Loss Treinamento:  12724.022464356507 Acurácia Treinamento:  0.5684\n",
            "Época:  53 Loss Treinamento:  12720.453871084173 Acurácia Treinamento:  0.56866\n",
            "Época:  54 Loss Treinamento:  12716.98660018695 Acurácia Treinamento:  0.56874\n",
            "Época:  55 Loss Treinamento:  12713.616056127656 Acurácia Treinamento:  0.569\n",
            "Época:  56 Loss Treinamento:  12710.33793089407 Acurácia Treinamento:  0.56932\n",
            "Época:  57 Loss Treinamento:  12707.148181645178 Acurácia Treinamento:  0.56948\n",
            "Época:  58 Loss Treinamento:  12704.043010358304 Acurácia Treinamento:  0.56962\n",
            "Época:  59 Loss Treinamento:  12701.01884527238 Acurácia Treinamento:  0.56978\n",
            "Época:  60 Loss Treinamento:  12698.07232396415 Acurácia Treinamento:  0.57006\n",
            "Época:  61 Loss Treinamento:  12695.200277894395 Acurácia Treinamento:  0.57032\n",
            "Época:  62 Loss Treinamento:  12692.399718287903 Acurácia Treinamento:  0.5706\n",
            "Época:  63 Loss Treinamento:  12689.667823218188 Acurácia Treinamento:  0.57074\n",
            "Época:  64 Loss Treinamento:  12687.001925782271 Acurácia Treinamento:  0.57102\n",
            "Época:  65 Loss Treinamento:  12684.39950326735 Acurácia Treinamento:  0.57114\n",
            "Época:  66 Loss Treinamento:  12681.858167211127 Acurácia Treinamento:  0.57106\n",
            "Época:  67 Loss Treinamento:  12679.375654279038 Acurácia Treinamento:  0.57112\n",
            "Época:  68 Loss Treinamento:  12676.949817877387 Acurácia Treinamento:  0.57106\n",
            "Época:  69 Loss Treinamento:  12674.578620439292 Acurácia Treinamento:  0.57106\n",
            "Época:  70 Loss Treinamento:  12672.26012632128 Acurácia Treinamento:  0.57146\n",
            "Época:  71 Loss Treinamento:  12669.992495256056 Acurácia Treinamento:  0.57136\n",
            "Época:  72 Loss Treinamento:  12667.773976311191 Acurácia Treinamento:  0.57136\n",
            "Época:  73 Loss Treinamento:  12665.60290230941 Acurácia Treinamento:  0.57144\n",
            "Época:  74 Loss Treinamento:  12663.477684671547 Acurácia Treinamento:  0.5715\n",
            "Época:  75 Loss Treinamento:  12661.396808642867 Acurácia Treinamento:  0.57144\n",
            "Época:  76 Loss Treinamento:  12659.358828873348 Acurácia Treinamento:  0.57142\n",
            "Época:  77 Loss Treinamento:  12657.36236531741 Acurácia Treinamento:  0.57146\n",
            "Época:  78 Loss Treinamento:  12655.406099432364 Acurácia Treinamento:  0.5716\n",
            "Época:  79 Loss Treinamento:  12653.488770643313 Acurácia Treinamento:  0.5715\n",
            "Época:  80 Loss Treinamento:  12651.609173059587 Acurácia Treinamento:  0.57166\n",
            "Época:  81 Loss Treinamento:  12649.766152417176 Acurácia Treinamento:  0.57162\n",
            "Época:  82 Loss Treinamento:  12647.958603231133 Acurácia Treinamento:  0.57178\n",
            "Época:  83 Loss Treinamento:  12646.185466141784 Acurácia Treinamento:  0.57182\n",
            "Época:  84 Loss Treinamento:  12644.44572543617 Acurácia Treinamento:  0.57182\n",
            "Época:  85 Loss Treinamento:  12642.738406736502 Acurácia Treinamento:  0.5718\n",
            "Época:  86 Loss Treinamento:  12641.06257483596 Acurácia Treinamento:  0.57196\n",
            "Época:  87 Loss Treinamento:  12639.417331676854 Acurácia Treinamento:  0.57214\n",
            "Época:  88 Loss Treinamento:  12637.80181445545 Acurácia Treinamento:  0.57218\n",
            "Época:  89 Loss Treinamento:  12636.21519384749 Acurácia Treinamento:  0.57228\n",
            "Época:  90 Loss Treinamento:  12634.65667234356 Acurácia Treinamento:  0.57244\n",
            "Época:  91 Loss Treinamento:  12633.125482685633 Acurácia Treinamento:  0.5727\n",
            "Época:  92 Loss Treinamento:  12631.620886399629 Acurácia Treinamento:  0.5726\n",
            "Época:  93 Loss Treinamento:  12630.142172416494 Acurácia Treinamento:  0.5726\n",
            "Época:  94 Loss Treinamento:  12628.688655771954 Acurácia Treinamento:  0.5726\n",
            "Época:  95 Loss Treinamento:  12627.259676386295 Acurácia Treinamento:  0.57274\n",
            "Época:  96 Loss Treinamento:  12625.854597911557 Acurácia Treinamento:  0.57282\n",
            "Época:  97 Loss Treinamento:  12624.472806646163 Acurácia Treinamento:  0.57306\n",
            "Época:  98 Loss Treinamento:  12623.113710510035 Acurácia Treinamento:  0.57296\n",
            "Época:  99 Loss Treinamento:  12621.776738077713 Acurácia Treinamento:  0.57296\n"
          ],
          "name": "stdout"
        },
        {
          "output_type": "display_data",
          "data": {
            "image/png": "[encoded data removed]",
            "text/plain": [
              "<Figure size 432x288 with 1 Axes>"
            ]
          },
          "metadata": {
            "tags": []
          }
        },
        {
          "output_type": "display_data",
          "data": {
            "image/png": "[encoded data removed]",
            "text/plain": [
              "<Figure size 432x288 with 1 Axes>"
            ]
          },
          "metadata": {
            "tags": []
          }
        },
        {
          "output_type": "stream",
          "text": [
            "Acurácia Avaliação:  0.3174\n"
          ],
          "name": "stdout"
        }
      ]
    },
    {
      "metadata": {
        "id": "3gicDWZ2OnWl",
        "colab_type": "code",
        "colab": {}
      },
      "cell_type": "code",
      "source": [
        "# Doggos :3"
      ],
      "execution_count": 0,
      "outputs": []
    },
    {
      "metadata": {
        "id": "b5bP5ePbOnWw",
        "colab_type": "code",
        "colab": {}
      },
      "cell_type": "code",
      "source": [
        "linear_dataset_train_dog = []\n",
        "target_labels = ('dog')\n",
        "for img,category in grayscale_dataset_train:\n",
        "    linear_img = img.reshape(img.shape[0]*img.shape[1],1) / 255\n",
        "    if category in target_labels:\n",
        "        label = 1\n",
        "    else:\n",
        "        label = 0\n",
        "    linear_dataset_train_dog.append((linear_img,label))\n",
        "    \n",
        "linear_dataset_test_dog = []\n",
        "target_labels = ('dog')\n",
        "for img,category in grayscale_dataset_test:\n",
        "    linear_img = img.reshape(img.shape[0]*img.shape[1],1) / 255\n",
        "    if category in target_labels:\n",
        "        label = 1\n",
        "    else:\n",
        "        label = 0\n",
        "    linear_dataset_test_dog.append((linear_img,label))    "
      ],
      "execution_count": 0,
      "outputs": []
    },
    {
      "metadata": {
        "id": "fbvDPtSBOnXH",
        "colab_type": "code",
        "outputId": "73cd0a00-2536-447b-e57f-a37f4efbfeea",
        "colab": {
          "base_uri": "https://localhost:8080/",
          "height": 2325
        }
      },
      "cell_type": "code",
      "source": [
        "#treinamento \n",
        "\n",
        "new_weights_dog = training(linear_dataset_train_dog)\n",
        "\n",
        "#avaliacao\n",
        "\n",
        "evaluate(new_weights_dog, linear_dataset_test_dog)"
      ],
      "execution_count": 0,
      "outputs": [
        {
          "output_type": "stream",
          "text": [
            "Época:  0 Loss Treinamento:  14762.655517353005 Acurácia Treinamento:  0.563\n",
            "Época:  1 Loss Treinamento:  13179.165655412427 Acurácia Treinamento:  0.58904\n",
            "Época:  2 Loss Treinamento:  12856.825742754161 Acurácia Treinamento:  0.5939\n",
            "Época:  3 Loss Treinamento:  12686.93979610983 Acurácia Treinamento:  0.596\n",
            "Época:  4 Loss Treinamento:  12568.090782132447 Acurácia Treinamento:  0.59774\n",
            "Época:  5 Loss Treinamento:  12477.515283584526 Acurácia Treinamento:  0.59942\n",
            "Época:  6 Loss Treinamento:  12405.2632659544 Acurácia Treinamento:  0.59982\n",
            "Época:  7 Loss Treinamento:  12345.977129113597 Acurácia Treinamento:  0.60116\n",
            "Época:  8 Loss Treinamento:  12296.358796494027 Acurácia Treinamento:  0.60172\n",
            "Época:  9 Loss Treinamento:  12254.192622493345 Acurácia Treinamento:  0.60224\n",
            "Época:  10 Loss Treinamento:  12217.900396210727 Acurácia Treinamento:  0.60344\n",
            "Época:  11 Loss Treinamento:  12186.313109932593 Acurácia Treinamento:  0.6041\n",
            "Época:  12 Loss Treinamento:  12158.542395827528 Acurácia Treinamento:  0.60428\n",
            "Época:  13 Loss Treinamento:  12133.901561665698 Acurácia Treinamento:  0.60444\n",
            "Época:  14 Loss Treinamento:  12111.853329041485 Acurácia Treinamento:  0.60414\n",
            "Época:  15 Loss Treinamento:  12091.973263811928 Acurácia Treinamento:  0.60416\n",
            "Época:  16 Loss Treinamento:  12073.923230771203 Acurácia Treinamento:  0.605\n",
            "Época:  17 Loss Treinamento:  12057.431685425574 Acurácia Treinamento:  0.60548\n",
            "Época:  18 Loss Treinamento:  12042.278839233351 Acurácia Treinamento:  0.60534\n",
            "Época:  19 Loss Treinamento:  12028.28539320841 Acurácia Treinamento:  0.60606\n",
            "Época:  20 Loss Treinamento:  12015.303925655464 Acurácia Treinamento:  0.6063\n",
            "Época:  21 Loss Treinamento:  12003.212272693245 Acurácia Treinamento:  0.60662\n",
            "Época:  22 Loss Treinamento:  11991.908414313542 Acurácia Treinamento:  0.60644\n",
            "Época:  23 Loss Treinamento:  11981.306503233121 Acurácia Treinamento:  0.60676\n",
            "Época:  24 Loss Treinamento:  11971.33376482753 Acurácia Treinamento:  0.60718\n",
            "Época:  25 Loss Treinamento:  11961.928063735386 Acurácia Treinamento:  0.60708\n",
            "Época:  26 Loss Treinamento:  11953.035982829191 Acurácia Treinamento:  0.6076\n",
            "Época:  27 Loss Treinamento:  11944.611297701642 Acurácia Treinamento:  0.60776\n",
            "Época:  28 Loss Treinamento:  11936.61375788683 Acurácia Treinamento:  0.608\n",
            "Época:  29 Loss Treinamento:  11929.008107144535 Acurácia Treinamento:  0.6081\n",
            "Época:  30 Loss Treinamento:  11921.763291027204 Acurácia Treinamento:  0.6084\n",
            "Época:  31 Loss Treinamento:  11914.851811965471 Acurácia Treinamento:  0.60882\n",
            "Época:  32 Loss Treinamento:  11908.249201194134 Acurácia Treinamento:  0.60946\n",
            "Época:  33 Loss Treinamento:  11901.93358375739 Acurácia Treinamento:  0.60964\n",
            "Época:  34 Loss Treinamento:  11895.885318089508 Acurácia Treinamento:  0.60994\n",
            "Época:  35 Loss Treinamento:  11890.086695691922 Acurácia Treinamento:  0.6101\n",
            "Época:  36 Loss Treinamento:  11884.521689518762 Acurácia Treinamento:  0.6104\n",
            "Época:  37 Loss Treinamento:  11879.175742063502 Acurácia Treinamento:  0.61054\n",
            "Época:  38 Loss Treinamento:  11874.035585983838 Acurácia Treinamento:  0.61066\n",
            "Época:  39 Loss Treinamento:  11869.08909153189 Acurácia Treinamento:  0.61096\n",
            "Época:  40 Loss Treinamento:  11864.325136187375 Acurácia Treinamento:  0.6113\n",
            "Época:  41 Loss Treinamento:  11859.733492763567 Acurácia Treinamento:  0.61148\n",
            "Época:  42 Loss Treinamento:  11855.304732961786 Acurácia Treinamento:  0.61162\n",
            "Época:  43 Loss Treinamento:  11851.03014389774 Acurácia Treinamento:  0.61162\n",
            "Época:  44 Loss Treinamento:  11846.901655568774 Acurácia Treinamento:  0.6119\n",
            "Época:  45 Loss Treinamento:  11842.911777585889 Acurácia Treinamento:  0.61202\n",
            "Época:  46 Loss Treinamento:  11839.05354378202 Acurácia Treinamento:  0.6123\n",
            "Época:  47 Loss Treinamento:  11835.320463541479 Acurácia Treinamento:  0.61222\n",
            "Época:  48 Loss Treinamento:  11831.706478882134 Acurácia Treinamento:  0.61262\n",
            "Época:  49 Loss Treinamento:  11828.205926483764 Acurácia Treinamento:  0.6129\n",
            "Época:  50 Loss Treinamento:  11824.813503979416 Acurácia Treinamento:  0.61322\n",
            "Época:  51 Loss Treinamento:  11821.524239934233 Acurácia Treinamento:  0.61336\n",
            "Época:  52 Loss Treinamento:  11818.333467022661 Acurácia Treinamento:  0.6134\n",
            "Época:  53 Loss Treinamento:  11815.236797994172 Acurácia Treinamento:  0.61348\n",
            "Época:  54 Loss Treinamento:  11812.230104067286 Acurácia Treinamento:  0.61388\n",
            "Época:  55 Loss Treinamento:  11809.309495456122 Acurácia Treinamento:  0.61396\n",
            "Época:  56 Loss Treinamento:  11806.471303768027 Acurácia Treinamento:  0.61418\n",
            "Época:  57 Loss Treinamento:  11803.712066048802 Acurácia Treinamento:  0.6142\n",
            "Época:  58 Loss Treinamento:  11801.02851028689 Acurácia Treinamento:  0.6145\n",
            "Época:  59 Loss Treinamento:  11798.4175422079 Acurácia Treinamento:  0.61454\n",
            "Época:  60 Loss Treinamento:  11795.876233217676 Acurácia Treinamento:  0.6147\n",
            "Época:  61 Loss Treinamento:  11793.401809368786 Acurácia Treinamento:  0.61502\n",
            "Época:  62 Loss Treinamento:  11790.991641242887 Acurácia Treinamento:  0.61494\n",
            "Época:  63 Loss Treinamento:  11788.643234652725 Acurácia Treinamento:  0.61522\n",
            "Época:  64 Loss Treinamento:  11786.35422208133 Acurácia Treinamento:  0.61538\n",
            "Época:  65 Loss Treinamento:  11784.122354786177 Acurácia Treinamento:  0.61546\n",
            "Época:  66 Loss Treinamento:  11781.945495504406 Acurácia Treinamento:  0.61556\n",
            "Época:  67 Loss Treinamento:  11779.82161170177 Acurácia Treinamento:  0.61556\n",
            "Época:  68 Loss Treinamento:  11777.748769314356 Acurácia Treinamento:  0.6158\n",
            "Época:  69 Loss Treinamento:  11775.725126941861 Acurácia Treinamento:  0.6157\n",
            "Época:  70 Loss Treinamento:  11773.74893045018 Acurácia Treinamento:  0.61574\n",
            "Época:  71 Loss Treinamento:  11771.818507947515 Acurácia Treinamento:  0.6158\n",
            "Época:  72 Loss Treinamento:  11769.932265106318 Acurácia Treinamento:  0.6158\n",
            "Época:  73 Loss Treinamento:  11768.08868079767 Acurácia Treinamento:  0.61604\n",
            "Época:  74 Loss Treinamento:  11766.286303016985 Acurácia Treinamento:  0.61612\n",
            "Época:  75 Loss Treinamento:  11764.52374507705 Acurácia Treinamento:  0.61632\n",
            "Época:  76 Loss Treinamento:  11762.79968204331 Acurácia Treinamento:  0.61638\n",
            "Época:  77 Loss Treinamento:  11761.112847401922 Acurácia Treinamento:  0.61646\n",
            "Época:  78 Loss Treinamento:  11759.462029932745 Acurácia Treinamento:  0.61672\n",
            "Época:  79 Loss Treinamento:  11757.846070781266 Acurácia Treinamento:  0.61676\n",
            "Época:  80 Loss Treinamento:  11756.263860708063 Acurácia Treinamento:  0.6169\n",
            "Época:  81 Loss Treinamento:  11754.7143375081 Acurácia Treinamento:  0.6169\n",
            "Época:  82 Loss Treinamento:  11753.196483584872 Acurácia Treinamento:  0.61694\n",
            "Época:  83 Loss Treinamento:  11751.709323669096 Acurácia Treinamento:  0.61696\n",
            "Época:  84 Loss Treinamento:  11750.251922674242 Acurácia Treinamento:  0.61726\n",
            "Época:  85 Loss Treinamento:  11748.82338367725 Acurácia Treinamento:  0.61742\n",
            "Época:  86 Loss Treinamento:  11747.422846014932 Acurácia Treinamento:  0.61758\n",
            "Época:  87 Loss Treinamento:  11746.049483494919 Acurácia Treinamento:  0.61754\n",
            "Época:  88 Loss Treinamento:  11744.702502703096 Acurácia Treinamento:  0.61772\n",
            "Época:  89 Loss Treinamento:  11743.38114141206 Acurácia Treinamento:  0.61778\n",
            "Época:  90 Loss Treinamento:  11742.0846670764 Acurácia Treinamento:  0.61774\n",
            "Época:  91 Loss Treinamento:  11740.812375414032 Acurácia Treinamento:  0.61782\n",
            "Época:  92 Loss Treinamento:  11739.563589064048 Acurácia Treinamento:  0.61788\n",
            "Época:  93 Loss Treinamento:  11738.33765632127 Acurácia Treinamento:  0.61792\n",
            "Época:  94 Loss Treinamento:  11737.13394993777 Acurácia Treinamento:  0.6181\n",
            "Época:  95 Loss Treinamento:  11735.951865989397 Acurácia Treinamento:  0.61806\n",
            "Época:  96 Loss Treinamento:  11734.7908228059 Acurácia Treinamento:  0.6182\n",
            "Época:  97 Loss Treinamento:  11733.650259955755 Acurácia Treinamento:  0.6182\n",
            "Época:  98 Loss Treinamento:  11732.529637285605 Acurácia Treinamento:  0.61828\n",
            "Época:  99 Loss Treinamento:  11731.428434011883 Acurácia Treinamento:  0.61826\n"
          ],
          "name": "stdout"
        },
        {
          "output_type": "display_data",
          "data": {
            "image/png": "[encoded data removed]",
            "text/plain": [
              "<Figure size 432x288 with 1 Axes>"
            ]
          },
          "metadata": {
            "tags": []
          }
        },
        {
          "output_type": "display_data",
          "data": {
            "image/png": "[encoded data removed]",
            "text/plain": [
              "<Figure size 432x288 with 1 Axes>"
            ]
          },
          "metadata": {
            "tags": []
          }
        },
        {
          "output_type": "stream",
          "text": [
            "Acurácia Avaliação:  0.5985\n"
          ],
          "name": "stdout"
        }
      ]
    },
    {
      "metadata": {
        "id": "8kflUCoZOnXS",
        "colab_type": "code",
        "colab": {}
      },
      "cell_type": "code",
      "source": [
        "#ladybird"
      ],
      "execution_count": 0,
      "outputs": []
    },
    {
      "metadata": {
        "id": "_QGp1G8GOnXf",
        "colab_type": "code",
        "colab": {}
      },
      "cell_type": "code",
      "source": [
        "linear_dataset_train_bird = []\n",
        "target_labels = ('bird')\n",
        "for img,category in grayscale_dataset_train:\n",
        "    linear_img = img.reshape(img.shape[0]*img.shape[1],1) / 255\n",
        "    if category in target_labels:\n",
        "        label = 1\n",
        "    else:\n",
        "        label = 0\n",
        "    linear_dataset_train_bird.append((linear_img,label))\n",
        "    \n",
        "linear_dataset_test_bird = []\n",
        "target_labels = ('bird')\n",
        "for img,category in grayscale_dataset_test:\n",
        "    linear_img = img.reshape(img.shape[0]*img.shape[1],1) / 255\n",
        "    if category in target_labels:\n",
        "        label = 1\n",
        "    else:\n",
        "        label = 0\n",
        "    linear_dataset_test_bird.append((linear_img,label))    "
      ],
      "execution_count": 0,
      "outputs": []
    },
    {
      "metadata": {
        "id": "LmS1sWpBOnXq",
        "colab_type": "code",
        "outputId": "04c671df-10cd-4669-9492-c09068d2a584",
        "colab": {
          "base_uri": "https://localhost:8080/",
          "height": 2325
        }
      },
      "cell_type": "code",
      "source": [
        "#treinamento \n",
        "\n",
        "new_weights_bird = training(linear_dataset_train_bird)\n",
        "\n",
        "#avaliacao\n",
        "\n",
        "evaluate(new_weights_bird, linear_dataset_test_bird)"
      ],
      "execution_count": 0,
      "outputs": [
        {
          "output_type": "stream",
          "text": [
            "Época:  0 Loss Treinamento:  16826.46132208567 Acurácia Treinamento:  0.48664\n",
            "Época:  1 Loss Treinamento:  15068.189005139466 Acurácia Treinamento:  0.52892\n",
            "Época:  2 Loss Treinamento:  14616.447315540729 Acurácia Treinamento:  0.53206\n",
            "Época:  3 Loss Treinamento:  14327.755379167147 Acurácia Treinamento:  0.53296\n",
            "Época:  4 Loss Treinamento:  14133.57690801387 Acurácia Treinamento:  0.53414\n",
            "Época:  5 Loss Treinamento:  13995.28856626288 Acurácia Treinamento:  0.53446\n",
            "Época:  6 Loss Treinamento:  13890.928777676114 Acurácia Treinamento:  0.5369\n",
            "Época:  7 Loss Treinamento:  13808.250656359287 Acurácia Treinamento:  0.53748\n",
            "Época:  8 Loss Treinamento:  13740.187490449242 Acurácia Treinamento:  0.53864\n",
            "Época:  9 Loss Treinamento:  13682.494877116456 Acurácia Treinamento:  0.53988\n",
            "Época:  10 Loss Treinamento:  13632.509049512852 Acurácia Treinamento:  0.54122\n",
            "Época:  11 Loss Treinamento:  13588.473740170999 Acurácia Treinamento:  0.542\n",
            "Época:  12 Loss Treinamento:  13549.17477297419 Acurácia Treinamento:  0.54258\n",
            "Época:  13 Loss Treinamento:  13513.739226131584 Acurácia Treinamento:  0.54378\n",
            "Época:  14 Loss Treinamento:  13481.520206492542 Acurácia Treinamento:  0.54406\n",
            "Época:  15 Loss Treinamento:  13452.026579448555 Acurácia Treinamento:  0.54486\n",
            "Época:  16 Loss Treinamento:  13424.877574141754 Acurácia Treinamento:  0.54566\n",
            "Época:  17 Loss Treinamento:  13399.772186500844 Acurácia Treinamento:  0.5464\n",
            "Época:  18 Loss Treinamento:  13376.467987423915 Acurácia Treinamento:  0.54704\n",
            "Época:  19 Loss Treinamento:  13354.766197488474 Acurácia Treinamento:  0.54754\n",
            "Época:  20 Loss Treinamento:  13334.501058370086 Acurácia Treinamento:  0.54796\n",
            "Época:  21 Loss Treinamento:  13315.532197267159 Acurácia Treinamento:  0.54884\n",
            "Época:  22 Loss Treinamento:  13297.739093899349 Acurácia Treinamento:  0.54926\n",
            "Época:  23 Loss Treinamento:  13281.017031897425 Acurácia Treinamento:  0.54962\n",
            "Época:  24 Loss Treinamento:  13265.274102170097 Acurácia Treinamento:  0.55062\n",
            "Época:  25 Loss Treinamento:  13250.428954862311 Acurácia Treinamento:  0.55114\n",
            "Época:  26 Loss Treinamento:  13236.409086787526 Acurácia Treinamento:  0.55178\n",
            "Época:  27 Loss Treinamento:  13223.149514528408 Acurácia Treinamento:  0.55218\n",
            "Época:  28 Loss Treinamento:  13210.591727770561 Acurácia Treinamento:  0.5528\n",
            "Época:  29 Loss Treinamento:  13198.682848510853 Acurácia Treinamento:  0.55354\n",
            "Época:  30 Loss Treinamento:  13187.374943533283 Acurácia Treinamento:  0.5539\n",
            "Época:  31 Loss Treinamento:  13176.62445273443 Acurácia Treinamento:  0.55418\n",
            "Época:  32 Loss Treinamento:  13166.391706529941 Acurácia Treinamento:  0.55446\n",
            "Época:  33 Loss Treinamento:  13156.640513006088 Acurácia Treinamento:  0.55472\n",
            "Época:  34 Loss Treinamento:  13147.337800712445 Acurácia Treinamento:  0.5549\n",
            "Época:  35 Loss Treinamento:  13138.453306666614 Acurácia Treinamento:  0.5555\n",
            "Época:  36 Loss Treinamento:  13129.959301739838 Acurácia Treinamento:  0.55586\n",
            "Época:  37 Loss Treinamento:  13121.830347448918 Acurácia Treinamento:  0.55624\n",
            "Época:  38 Loss Treinamento:  13114.043079503603 Acurácia Treinamento:  0.55676\n",
            "Época:  39 Loss Treinamento:  13106.57601442128 Acurácia Treinamento:  0.55716\n",
            "Época:  40 Loss Treinamento:  13099.409376233438 Acurácia Treinamento:  0.55742\n",
            "Época:  41 Loss Treinamento:  13092.524940827949 Acurácia Treinamento:  0.55754\n",
            "Época:  42 Loss Treinamento:  13085.905895872356 Acurácia Treinamento:  0.5578\n",
            "Época:  43 Loss Treinamento:  13079.53671457917 Acurácia Treinamento:  0.558\n",
            "Época:  44 Loss Treinamento:  13073.403041806043 Acurácia Treinamento:  0.55828\n",
            "Época:  45 Loss Treinamento:  13067.491591185937 Acurácia Treinamento:  0.55858\n",
            "Época:  46 Loss Treinamento:  13061.790052144252 Acurácia Treinamento:  0.55886\n",
            "Época:  47 Loss Treinamento:  13056.287005787024 Acurácia Treinamento:  0.55918\n",
            "Época:  48 Loss Treinamento:  13050.971848764213 Acurácia Treinamento:  0.55964\n",
            "Época:  49 Loss Treinamento:  13045.834724308746 Acurácia Treinamento:  0.55962\n",
            "Época:  50 Loss Treinamento:  13040.866459731858 Acurácia Treinamento:  0.5598\n",
            "Época:  51 Loss Treinamento:  13036.058509738703 Acurácia Treinamento:  0.5599\n",
            "Época:  52 Loss Treinamento:  13031.402904985001 Acurácia Treinamento:  0.56022\n",
            "Época:  53 Loss Treinamento:  13026.89220536313 Acurácia Treinamento:  0.5604\n",
            "Época:  54 Loss Treinamento:  13022.519457549817 Acurácia Treinamento:  0.56064\n",
            "Época:  55 Loss Treinamento:  13018.278156400966 Acurácia Treinamento:  0.56098\n",
            "Época:  56 Loss Treinamento:  13014.162209819275 Acurácia Treinamento:  0.5612\n",
            "Época:  57 Loss Treinamento:  13010.165906756813 Acurácia Treinamento:  0.56134\n",
            "Época:  58 Loss Treinamento:  13006.283888048896 Acurácia Treinamento:  0.56128\n",
            "Época:  59 Loss Treinamento:  13002.511119807214 Acurácia Treinamento:  0.56144\n",
            "Época:  60 Loss Treinamento:  12998.842869129205 Acurácia Treinamento:  0.56148\n",
            "Época:  61 Loss Treinamento:  12995.274681896886 Acurácia Treinamento:  0.56164\n",
            "Época:  62 Loss Treinamento:  12991.802362476656 Acurácia Treinamento:  0.56166\n",
            "Época:  63 Loss Treinamento:  12988.421955128739 Acurácia Treinamento:  0.5619\n",
            "Época:  64 Loss Treinamento:  12985.12972697804 Acurácia Treinamento:  0.56198\n",
            "Época:  65 Loss Treinamento:  12981.922152392974 Acurácia Treinamento:  0.56232\n",
            "Época:  66 Loss Treinamento:  12978.795898645003 Acurácia Treinamento:  0.56236\n",
            "Época:  67 Loss Treinamento:  12975.747812732381 Acurácia Treinamento:  0.56258\n",
            "Época:  68 Loss Treinamento:  12972.774909260486 Acurácia Treinamento:  0.56278\n",
            "Época:  69 Loss Treinamento:  12969.874359283356 Acurácia Treinamento:  0.56284\n",
            "Época:  70 Loss Treinamento:  12967.04348002245 Acurácia Treinamento:  0.56298\n",
            "Época:  71 Loss Treinamento:  12964.279725382246 Acurácia Treinamento:  0.56316\n",
            "Época:  72 Loss Treinamento:  12961.580677194133 Acurácia Treinamento:  0.56324\n",
            "Época:  73 Loss Treinamento:  12958.94403712374 Acurácia Treinamento:  0.56338\n",
            "Época:  74 Loss Treinamento:  12956.367619187582 Acurácia Treinamento:  0.56342\n",
            "Época:  75 Loss Treinamento:  12953.849342822066 Acurácia Treinamento:  0.56356\n",
            "Época:  76 Loss Treinamento:  12951.387226462452 Acurácia Treinamento:  0.56378\n",
            "Época:  77 Loss Treinamento:  12948.979381586672 Acurácia Treinamento:  0.56408\n",
            "Época:  78 Loss Treinamento:  12946.62400718624 Acurácia Treinamento:  0.5641\n",
            "Época:  79 Loss Treinamento:  12944.319384628276 Acurácia Treinamento:  0.56412\n",
            "Época:  80 Loss Treinamento:  12942.063872878085 Acurácia Treinamento:  0.56412\n",
            "Época:  81 Loss Treinamento:  12939.855904053897 Acurácia Treinamento:  0.56424\n",
            "Época:  82 Loss Treinamento:  12937.693979282663 Acurácia Treinamento:  0.56444\n",
            "Época:  83 Loss Treinamento:  12935.576664840315 Acurácia Treinamento:  0.5644\n",
            "Época:  84 Loss Treinamento:  12933.502588548025 Acurácia Treinamento:  0.56462\n",
            "Época:  85 Loss Treinamento:  12931.470436409163 Acurácia Treinamento:  0.56476\n",
            "Época:  86 Loss Treinamento:  12929.478949464348 Acurácia Treinamento:  0.5648\n",
            "Época:  87 Loss Treinamento:  12927.526920853112 Acurácia Treinamento:  0.56494\n",
            "Época:  88 Loss Treinamento:  12925.613193061057 Acurácia Treinamento:  0.56512\n",
            "Época:  89 Loss Treinamento:  12923.736655343935 Acurácia Treinamento:  0.5651\n",
            "Época:  90 Loss Treinamento:  12921.896241313596 Acurácia Treinamento:  0.56524\n",
            "Época:  91 Loss Treinamento:  12920.090926670528 Acurácia Treinamento:  0.56524\n",
            "Época:  92 Loss Treinamento:  12918.319727081278 Acurácia Treinamento:  0.56554\n",
            "Época:  93 Loss Treinamento:  12916.581696178862 Acurácia Treinamento:  0.56568\n",
            "Época:  94 Loss Treinamento:  12914.875923689253 Acurácia Treinamento:  0.56588\n",
            "Época:  95 Loss Treinamento:  12913.201533665402 Acurácia Treinamento:  0.5659\n",
            "Época:  96 Loss Treinamento:  12911.557682827799 Acurácia Treinamento:  0.56614\n",
            "Época:  97 Loss Treinamento:  12909.943559001124 Acurácia Treinamento:  0.56612\n",
            "Época:  98 Loss Treinamento:  12908.358379641253 Acurácia Treinamento:  0.5663\n",
            "Época:  99 Loss Treinamento:  12906.801390447241 Acurácia Treinamento:  0.56636\n"
          ],
          "name": "stdout"
        },
        {
          "output_type": "display_data",
          "data": {
            "image/png": "[encoded data removed]",
            "text/plain": [
              "<Figure size 432x288 with 1 Axes>"
            ]
          },
          "metadata": {
            "tags": []
          }
        },
        {
          "output_type": "display_data",
          "data": {
            "image/png": "[encoded data removed]",
            "text/plain": [
              "<Figure size 432x288 with 1 Axes>"
            ]
          },
          "metadata": {
            "tags": []
          }
        },
        {
          "output_type": "stream",
          "text": [
            "Acurácia Avaliação:  0.5047\n"
          ],
          "name": "stdout"
        }
      ]
    },
    {
      "metadata": {
        "id": "Rc08Z6HCOnYB",
        "colab_type": "code",
        "colab": {}
      },
      "cell_type": "code",
      "source": [
        "#horse"
      ],
      "execution_count": 0,
      "outputs": []
    },
    {
      "metadata": {
        "id": "CsflmsE0OnYL",
        "colab_type": "code",
        "colab": {}
      },
      "cell_type": "code",
      "source": [
        "linear_dataset_train_horse = []\n",
        "target_labels = ('horse')\n",
        "for img,category in grayscale_dataset_train:\n",
        "    linear_img = img.reshape(img.shape[0]*img.shape[1],1) / 255\n",
        "    if category in target_labels:\n",
        "        label = 1\n",
        "    else:\n",
        "        label = 0\n",
        "    linear_dataset_train_horse.append((linear_img,label))\n",
        "    \n",
        "linear_dataset_test_horse = []\n",
        "target_labels = ('horse')\n",
        "for img,category in grayscale_dataset_test:\n",
        "    linear_img = img.reshape(img.shape[0]*img.shape[1],1) / 255\n",
        "    if category in target_labels:\n",
        "        label = 1\n",
        "    else:\n",
        "        label = 0\n",
        "    linear_dataset_test_horse.append((linear_img,label))    "
      ],
      "execution_count": 0,
      "outputs": []
    },
    {
      "metadata": {
        "id": "XAmxdiJkOnYe",
        "colab_type": "code",
        "outputId": "cff313f2-db09-4160-9f9a-5fb7dea366bf",
        "colab": {
          "base_uri": "https://localhost:8080/",
          "height": 2325
        }
      },
      "cell_type": "code",
      "source": [
        "#treinamento \n",
        "\n",
        "new_weights_horse = training(linear_dataset_train_horse)\n",
        "\n",
        "#avaliacao\n",
        "\n",
        "evaluate(new_weights_horse, linear_dataset_test_horse)"
      ],
      "execution_count": 0,
      "outputs": [
        {
          "output_type": "stream",
          "text": [
            "Época:  0 Loss Treinamento:  13714.398216889871 Acurácia Treinamento:  0.5761\n",
            "Época:  1 Loss Treinamento:  13000.61636141304 Acurácia Treinamento:  0.59316\n",
            "Época:  2 Loss Treinamento:  12784.024528548922 Acurácia Treinamento:  0.59598\n",
            "Época:  3 Loss Treinamento:  12650.202366141973 Acurácia Treinamento:  0.59664\n",
            "Época:  4 Loss Treinamento:  12557.759594506166 Acurácia Treinamento:  0.59666\n",
            "Época:  5 Loss Treinamento:  12489.836881404264 Acurácia Treinamento:  0.59794\n",
            "Época:  6 Loss Treinamento:  12437.428434506915 Acurácia Treinamento:  0.59768\n",
            "Época:  7 Loss Treinamento:  12395.434224942372 Acurácia Treinamento:  0.59706\n",
            "Época:  8 Loss Treinamento:  12360.760067228135 Acurácia Treinamento:  0.59714\n",
            "Época:  9 Loss Treinamento:  12331.398105672035 Acurácia Treinamento:  0.59754\n",
            "Época:  10 Loss Treinamento:  12305.981399961098 Acurácia Treinamento:  0.5984\n",
            "Época:  11 Loss Treinamento:  12283.552024022256 Acurácia Treinamento:  0.59834\n",
            "Época:  12 Loss Treinamento:  12263.427378547294 Acurácia Treinamento:  0.5988\n",
            "Época:  13 Loss Treinamento:  12245.115984269101 Acurácia Treinamento:  0.59918\n",
            "Época:  14 Loss Treinamento:  12228.26117641603 Acurácia Treinamento:  0.59942\n",
            "Época:  15 Loss Treinamento:  12212.602126612499 Acurácia Treinamento:  0.59972\n",
            "Época:  16 Loss Treinamento:  12197.946371246135 Acurácia Treinamento:  0.59914\n",
            "Época:  17 Loss Treinamento:  12184.150293200597 Acurácia Treinamento:  0.59966\n",
            "Época:  18 Loss Treinamento:  12171.105217386747 Acurácia Treinamento:  0.6002\n",
            "Época:  19 Loss Treinamento:  12158.727505394154 Acurácia Treinamento:  0.6003\n",
            "Época:  20 Loss Treinamento:  12146.951506951604 Acurácia Treinamento:  0.60062\n",
            "Época:  21 Loss Treinamento:  12135.724551409789 Acurácia Treinamento:  0.60096\n",
            "Época:  22 Loss Treinamento:  12125.003393516934 Acurácia Treinamento:  0.60146\n",
            "Época:  23 Loss Treinamento:  12114.751693758144 Acurácia Treinamento:  0.60204\n",
            "Época:  24 Loss Treinamento:  12104.938233133187 Acurácia Treinamento:  0.60224\n",
            "Época:  25 Loss Treinamento:  12095.535648284509 Acurácia Treinamento:  0.60276\n",
            "Época:  26 Loss Treinamento:  12086.519534610154 Acurácia Treinamento:  0.6033\n",
            "Época:  27 Loss Treinamento:  12077.867809130183 Acurácia Treinamento:  0.60334\n",
            "Época:  28 Loss Treinamento:  12069.560256355333 Acurácia Treinamento:  0.60376\n",
            "Época:  29 Loss Treinamento:  12061.578202820188 Acurácia Treinamento:  0.6037\n",
            "Época:  30 Loss Treinamento:  12053.90428186202 Acurácia Treinamento:  0.60388\n",
            "Época:  31 Loss Treinamento:  12046.522261544278 Acurácia Treinamento:  0.60444\n",
            "Época:  32 Loss Treinamento:  12039.416916635371 Acurácia Treinamento:  0.60468\n",
            "Época:  33 Loss Treinamento:  12032.573931245772 Acurácia Treinamento:  0.60494\n",
            "Época:  34 Loss Treinamento:  12025.979822743135 Acurácia Treinamento:  0.60524\n",
            "Época:  35 Loss Treinamento:  12019.621880418235 Acurácia Treinamento:  0.60544\n",
            "Época:  36 Loss Treinamento:  12013.488114374806 Acurácia Treinamento:  0.60596\n",
            "Época:  37 Loss Treinamento:  12007.567211534526 Acurácia Treinamento:  0.6062\n",
            "Época:  38 Loss Treinamento:  12001.84849663982 Acurácia Treinamento:  0.60612\n",
            "Época:  39 Loss Treinamento:  11996.321896821308 Acurácia Treinamento:  0.60608\n",
            "Época:  40 Loss Treinamento:  11990.977908790059 Acurácia Treinamento:  0.6066\n",
            "Época:  41 Loss Treinamento:  11985.807568026537 Acurácia Treinamento:  0.60694\n",
            "Época:  42 Loss Treinamento:  11980.802419581221 Acurácia Treinamento:  0.60678\n",
            "Época:  43 Loss Treinamento:  11975.954490236434 Acurácia Treinamento:  0.6068\n",
            "Época:  44 Loss Treinamento:  11971.256261885126 Acurácia Treinamento:  0.60668\n",
            "Época:  45 Loss Treinamento:  11966.700646044339 Acurácia Treinamento:  0.60676\n",
            "Época:  46 Loss Treinamento:  11962.280959456908 Acurácia Treinamento:  0.60682\n",
            "Época:  47 Loss Treinamento:  11957.990900759009 Acurácia Treinamento:  0.60692\n",
            "Época:  48 Loss Treinamento:  11953.824528197445 Acurácia Treinamento:  0.6067\n",
            "Época:  49 Loss Treinamento:  11949.776238393566 Acurácia Treinamento:  0.6069\n",
            "Época:  50 Loss Treinamento:  11945.840746136795 Acurácia Treinamento:  0.60712\n",
            "Época:  51 Loss Treinamento:  11942.013065204037 Acurácia Treinamento:  0.60724\n",
            "Época:  52 Loss Treinamento:  11938.28849018116 Acurácia Treinamento:  0.60736\n",
            "Época:  53 Loss Treinamento:  11934.662579268217 Acurácia Treinamento:  0.60774\n",
            "Época:  54 Loss Treinamento:  11931.131138048822 Acurácia Treinamento:  0.60816\n",
            "Época:  55 Loss Treinamento:  11927.690204183602 Acurácia Treinamento:  0.60838\n",
            "Época:  56 Loss Treinamento:  11924.336033009089 Acurácia Treinamento:  0.60858\n",
            "Época:  57 Loss Treinamento:  11921.065083993908 Acurácia Treinamento:  0.60862\n",
            "Época:  58 Loss Treinamento:  11917.874008028835 Acurácia Treinamento:  0.60906\n",
            "Época:  59 Loss Treinamento:  11914.759635503206 Acurácia Treinamento:  0.60934\n",
            "Época:  60 Loss Treinamento:  11911.718965132051 Acurácia Treinamento:  0.60938\n",
            "Época:  61 Loss Treinamento:  11908.749153498804 Acurácia Treinamento:  0.60962\n",
            "Época:  62 Loss Treinamento:  11905.84750526972 Acurácia Treinamento:  0.6097\n",
            "Época:  63 Loss Treinamento:  11903.011464044175 Acurácia Treinamento:  0.61002\n",
            "Época:  64 Loss Treinamento:  11900.238603807755 Acurácia Treinamento:  0.61016\n",
            "Época:  65 Loss Treinamento:  11897.526620942885 Acurácia Treinamento:  0.61046\n",
            "Época:  66 Loss Treinamento:  11894.873326772205 Acurácia Treinamento:  0.61064\n",
            "Época:  67 Loss Treinamento:  11892.27664059579 Acurácia Treinamento:  0.61082\n",
            "Época:  68 Loss Treinamento:  11889.734583190617 Acurácia Treinamento:  0.61074\n",
            "Época:  69 Loss Treinamento:  11887.245270743806 Acurácia Treinamento:  0.61072\n",
            "Época:  70 Loss Treinamento:  11884.806909191133 Acurácia Treinamento:  0.61078\n",
            "Época:  71 Loss Treinamento:  11882.417788930039 Acurácia Treinamento:  0.61068\n",
            "Época:  72 Loss Treinamento:  11880.076279886498 Acurácia Treinamento:  0.61086\n",
            "Época:  73 Loss Treinamento:  11877.780826908443 Acurácia Treinamento:  0.61092\n",
            "Época:  74 Loss Treinamento:  11875.529945463937 Acurácia Treinamento:  0.6108\n",
            "Época:  75 Loss Treinamento:  11873.322217622528 Acurácia Treinamento:  0.61092\n",
            "Época:  76 Loss Treinamento:  11871.156288302462 Acurácia Treinamento:  0.61092\n",
            "Época:  77 Loss Treinamento:  11869.030861760772 Acurácia Treinamento:  0.61096\n",
            "Época:  78 Loss Treinamento:  11866.944698313597 Acurácia Treinamento:  0.61092\n",
            "Época:  79 Loss Treinamento:  11864.896611267424 Acurácia Treinamento:  0.61096\n",
            "Época:  80 Loss Treinamento:  11862.885464048784 Acurácia Treinamento:  0.61104\n",
            "Época:  81 Loss Treinamento:  11860.910167516387 Acurácia Treinamento:  0.61124\n",
            "Época:  82 Loss Treinamento:  11858.96967744403 Acurácia Treinamento:  0.61126\n",
            "Época:  83 Loss Treinamento:  11857.062992163163 Acurácia Treinamento:  0.61116\n",
            "Época:  84 Loss Treinamento:  11855.189150350396 Acurácia Treinamento:  0.61112\n",
            "Época:  85 Loss Treinamento:  11853.347228954724 Acurácia Treinamento:  0.61126\n",
            "Época:  86 Loss Treinamento:  11851.536341251775 Acurácia Treinamento:  0.61138\n",
            "Época:  87 Loss Treinamento:  11849.75563501572 Acurácia Treinamento:  0.6113\n",
            "Época:  88 Loss Treinamento:  11848.004290802462 Acurácia Treinamento:  0.6113\n",
            "Época:  89 Loss Treinamento:  11846.281520336857 Acurácia Treinamento:  0.61132\n",
            "Época:  90 Loss Treinamento:  11844.586564993378 Acurácia Treinamento:  0.61158\n",
            "Época:  91 Loss Treinamento:  11842.91869436953 Acurácia Treinamento:  0.6118\n",
            "Época:  92 Loss Treinamento:  11841.277204939346 Acurácia Treinamento:  0.61188\n",
            "Época:  93 Loss Treinamento:  11839.661418786522 Acurácia Treinamento:  0.61174\n",
            "Época:  94 Loss Treinamento:  11838.070682410036 Acurácia Treinamento:  0.61172\n",
            "Época:  95 Loss Treinamento:  11836.504365597204 Acurácia Treinamento:  0.61174\n",
            "Época:  96 Loss Treinamento:  11834.961860360192 Acurácia Treinamento:  0.61184\n",
            "Época:  97 Loss Treinamento:  11833.44257993067 Acurácia Treinamento:  0.61192\n",
            "Época:  98 Loss Treinamento:  11831.945957812397 Acurácia Treinamento:  0.6118\n",
            "Época:  99 Loss Treinamento:  11830.471446882013 Acurácia Treinamento:  0.61188\n"
          ],
          "name": "stdout"
        },
        {
          "output_type": "display_data",
          "data": {
            "image/png": "[encoded data removed]",
            "text/plain": [
              "<Figure size 432x288 with 1 Axes>"
            ]
          },
          "metadata": {
            "tags": []
          }
        },
        {
          "output_type": "display_data",
          "data": {
            "image/png": "[encoded data removed]",
            "text/plain": [
              "<Figure size 432x288 with 1 Axes>"
            ]
          },
          "metadata": {
            "tags": []
          }
        },
        {
          "output_type": "stream",
          "text": [
            "Acurácia Avaliação:  0.5951\n"
          ],
          "name": "stdout"
        }
      ]
    },
    {
      "metadata": {
        "id": "5evg_pFYOnYs",
        "colab_type": "code",
        "colab": {}
      },
      "cell_type": "code",
      "source": [
        "#deer"
      ],
      "execution_count": 0,
      "outputs": []
    },
    {
      "metadata": {
        "id": "hHnhFa6zOnY0",
        "colab_type": "code",
        "colab": {}
      },
      "cell_type": "code",
      "source": [
        "linear_dataset_train_deer = []\n",
        "target_labels = ('deer')\n",
        "for img,category in grayscale_dataset_train:\n",
        "    linear_img = img.reshape(img.shape[0]*img.shape[1],1) / 255\n",
        "    if category in target_labels:\n",
        "        label = 1\n",
        "    else:\n",
        "        label = 0\n",
        "    linear_dataset_train_deer.append((linear_img,label))\n",
        "    \n",
        "linear_dataset_test_deer = []\n",
        "target_labels = ('deer')\n",
        "for img,category in grayscale_dataset_test:\n",
        "    linear_img = img.reshape(img.shape[0]*img.shape[1],1) / 255\n",
        "    if category in target_labels:\n",
        "        label = 1\n",
        "    else:\n",
        "        label = 0\n",
        "    linear_dataset_test_deer.append((linear_img,label))    "
      ],
      "execution_count": 0,
      "outputs": []
    },
    {
      "metadata": {
        "id": "wZoBc4fnOnY9",
        "colab_type": "code",
        "outputId": "a831f7a7-ac5e-4ed4-f9ef-4179668421aa",
        "colab": {
          "base_uri": "https://localhost:8080/",
          "height": 2325
        }
      },
      "cell_type": "code",
      "source": [
        "#treinamento \n",
        "\n",
        "new_weights_deer = training(linear_dataset_train_deer)\n",
        "\n",
        "#avaliacao\n",
        "\n",
        "evaluate(new_weights_deer, linear_dataset_test_deer)"
      ],
      "execution_count": 0,
      "outputs": [
        {
          "output_type": "stream",
          "text": [
            "Época:  0 Loss Treinamento:  15276.42220423568 Acurácia Treinamento:  0.52594\n",
            "Época:  1 Loss Treinamento:  14200.546798776664 Acurácia Treinamento:  0.54906\n",
            "Época:  2 Loss Treinamento:  13884.487531938663 Acurácia Treinamento:  0.55364\n",
            "Época:  3 Loss Treinamento:  13690.565872701132 Acurácia Treinamento:  0.55484\n",
            "Época:  4 Loss Treinamento:  13559.32744667177 Acurácia Treinamento:  0.55732\n",
            "Época:  5 Loss Treinamento:  13464.712020277115 Acurácia Treinamento:  0.55788\n",
            "Época:  6 Loss Treinamento:  13392.950139637562 Acurácia Treinamento:  0.55864\n",
            "Época:  7 Loss Treinamento:  13336.226201338146 Acurácia Treinamento:  0.55938\n",
            "Época:  8 Loss Treinamento:  13289.810774741223 Acurácia Treinamento:  0.55866\n",
            "Época:  9 Loss Treinamento:  13250.705504640839 Acurácia Treinamento:  0.55932\n",
            "Época:  10 Loss Treinamento:  13216.945824810928 Acurácia Treinamento:  0.5589\n",
            "Época:  11 Loss Treinamento:  13187.211393459704 Acurácia Treinamento:  0.55926\n",
            "Época:  12 Loss Treinamento:  13160.59531513418 Acurácia Treinamento:  0.56032\n",
            "Época:  13 Loss Treinamento:  13136.461909723574 Acurácia Treinamento:  0.5613\n",
            "Época:  14 Loss Treinamento:  13114.35656342731 Acurácia Treinamento:  0.56182\n",
            "Época:  15 Loss Treinamento:  13093.94737894306 Acurácia Treinamento:  0.56226\n",
            "Época:  16 Loss Treinamento:  13074.98678134318 Acurácia Treinamento:  0.56274\n",
            "Época:  17 Loss Treinamento:  13057.285911807077 Acurácia Treinamento:  0.56328\n",
            "Época:  18 Loss Treinamento:  13040.697351882427 Acurácia Treinamento:  0.56324\n",
            "Época:  19 Loss Treinamento:  13025.10334783297 Acurácia Treinamento:  0.56334\n",
            "Época:  20 Loss Treinamento:  13010.407707563547 Acurácia Treinamento:  0.5633\n",
            "Época:  21 Loss Treinamento:  12996.530173856698 Acurácia Treinamento:  0.56354\n",
            "Época:  22 Loss Treinamento:  12983.402481620245 Acurácia Treinamento:  0.56394\n",
            "Época:  23 Loss Treinamento:  12970.965569022477 Acurácia Treinamento:  0.56382\n",
            "Época:  24 Loss Treinamento:  12959.167584634224 Acurácia Treinamento:  0.56436\n",
            "Época:  25 Loss Treinamento:  12947.962447107695 Acurácia Treinamento:  0.5646\n",
            "Época:  26 Loss Treinamento:  12937.30879065769 Acurácia Treinamento:  0.56428\n",
            "Época:  27 Loss Treinamento:  12927.169181537321 Acurácia Treinamento:  0.56454\n",
            "Época:  28 Loss Treinamento:  12917.509526071584 Acurácia Treinamento:  0.56472\n",
            "Época:  29 Loss Treinamento:  12908.298615082618 Acurácia Treinamento:  0.565\n",
            "Época:  30 Loss Treinamento:  12899.507766248713 Acurácia Treinamento:  0.5652\n",
            "Época:  31 Loss Treinamento:  12891.11053749825 Acurácia Treinamento:  0.5652\n",
            "Época:  32 Loss Treinamento:  12883.082492557925 Acurácia Treinamento:  0.56574\n",
            "Época:  33 Loss Treinamento:  12875.401005338319 Acurácia Treinamento:  0.56572\n",
            "Época:  34 Loss Treinamento:  12868.04509372623 Acurácia Treinamento:  0.5659\n",
            "Época:  35 Loss Treinamento:  12860.995276047222 Acurácia Treinamento:  0.5658\n",
            "Época:  36 Loss Treinamento:  12854.233445359578 Acurácia Treinamento:  0.56628\n",
            "Época:  37 Loss Treinamento:  12847.74275806064 Acurácia Treinamento:  0.56648\n",
            "Época:  38 Loss Treinamento:  12841.507534214232 Acurácia Treinamento:  0.56674\n",
            "Época:  39 Loss Treinamento:  12835.513167670095 Acurácia Treinamento:  0.56688\n",
            "Época:  40 Loss Treinamento:  12829.746044508267 Acurácia Treinamento:  0.56716\n",
            "Época:  41 Loss Treinamento:  12824.193468676867 Acurácia Treinamento:  0.56734\n",
            "Época:  42 Loss Treinamento:  12818.843593929309 Acurácia Treinamento:  0.56754\n",
            "Época:  43 Loss Treinamento:  12813.685361348873 Acurácia Treinamento:  0.5674\n",
            "Época:  44 Loss Treinamento:  12808.70844186918 Acurácia Treinamento:  0.56756\n",
            "Época:  45 Loss Treinamento:  12803.903183303735 Acurácia Treinamento:  0.56794\n",
            "Época:  46 Loss Treinamento:  12799.260561467323 Acurácia Treinamento:  0.5682\n",
            "Época:  47 Loss Treinamento:  12794.772135029956 Acurácia Treinamento:  0.56844\n",
            "Época:  48 Loss Treinamento:  12790.430003787553 Acurácia Treinamento:  0.5686\n",
            "Época:  49 Loss Treinamento:  12786.226770073594 Acurácia Treinamento:  0.56876\n",
            "Época:  50 Loss Treinamento:  12782.155503058384 Acurácia Treinamento:  0.5691\n",
            "Época:  51 Loss Treinamento:  12778.209705712563 Acurácia Treinamento:  0.56944\n",
            "Época:  52 Loss Treinamento:  12774.383284231913 Acurácia Treinamento:  0.56952\n",
            "Época:  53 Loss Treinamento:  12770.670519732208 Acurácia Treinamento:  0.56972\n",
            "Época:  54 Loss Treinamento:  12767.066042045706 Acurácia Treinamento:  0.57014\n",
            "Época:  55 Loss Treinamento:  12763.564805461257 Acurácia Treinamento:  0.57038\n",
            "Época:  56 Loss Treinamento:  12760.162066259567 Acurácia Treinamento:  0.57058\n",
            "Época:  57 Loss Treinamento:  12756.853361912736 Acurácia Treinamento:  0.57096\n",
            "Época:  58 Loss Treinamento:  12753.634491818926 Acurácia Treinamento:  0.5711\n",
            "Época:  59 Loss Treinamento:  12750.501499462182 Acurácia Treinamento:  0.5714\n",
            "Época:  60 Loss Treinamento:  12747.450655884883 Acurácia Treinamento:  0.57144\n",
            "Época:  61 Loss Treinamento:  12744.478444376087 Acurácia Treinamento:  0.5717\n",
            "Época:  62 Loss Treinamento:  12741.581546287216 Acurácia Treinamento:  0.57172\n",
            "Época:  63 Loss Treinamento:  12738.756827882575 Acurácia Treinamento:  0.57174\n",
            "Época:  64 Loss Treinamento:  12736.001328153228 Acurácia Treinamento:  0.57166\n",
            "Época:  65 Loss Treinamento:  12733.312247517319 Acurácia Treinamento:  0.57176\n",
            "Época:  66 Loss Treinamento:  12730.686937339167 Acurácia Treinamento:  0.57188\n",
            "Época:  67 Loss Treinamento:  12728.122890208151 Acurácia Treinamento:  0.572\n",
            "Época:  68 Loss Treinamento:  12725.617730915188 Acurácia Treinamento:  0.57222\n",
            "Época:  69 Loss Treinamento:  12723.169208077556 Acurácia Treinamento:  0.5721\n",
            "Época:  70 Loss Treinamento:  12720.775186358365 Acurácia Treinamento:  0.57204\n",
            "Época:  71 Loss Treinamento:  12718.43363924191 Acurácia Treinamento:  0.57218\n",
            "Época:  72 Loss Treinamento:  12716.142642314366 Acurácia Treinamento:  0.57206\n",
            "Época:  73 Loss Treinamento:  12713.900367018452 Acurácia Treinamento:  0.5723\n",
            "Época:  74 Loss Treinamento:  12711.705074843487 Acurácia Treinamento:  0.57236\n",
            "Época:  75 Loss Treinamento:  12709.555111915719 Acurácia Treinamento:  0.57258\n",
            "Época:  76 Loss Treinamento:  12707.44890396359 Acurácia Treinamento:  0.57264\n",
            "Época:  77 Loss Treinamento:  12705.384951625721 Acurácia Treinamento:  0.57282\n",
            "Época:  78 Loss Treinamento:  12703.361826077777 Acurácia Treinamento:  0.57308\n",
            "Época:  79 Loss Treinamento:  12701.378164953278 Acurácia Treinamento:  0.57312\n",
            "Época:  80 Loss Treinamento:  12699.43266853899 Acurácia Treinamento:  0.5732\n",
            "Época:  81 Loss Treinamento:  12697.524096220066 Acurácia Treinamento:  0.57336\n",
            "Época:  82 Loss Treinamento:  12695.651263163445 Acurácia Treinamento:  0.57348\n",
            "Época:  83 Loss Treinamento:  12693.813037212603 Acurácia Treinamento:  0.57364\n",
            "Época:  84 Loss Treinamento:  12692.008335989518 Acurácia Treinamento:  0.57366\n",
            "Época:  85 Loss Treinamento:  12690.236124178227 Acurácia Treinamento:  0.57366\n",
            "Época:  86 Loss Treinamento:  12688.495410984267 Acurácia Treinamento:  0.57368\n",
            "Época:  87 Loss Treinamento:  12686.78524775353 Acurácia Treinamento:  0.57364\n",
            "Época:  88 Loss Treinamento:  12685.104725741792 Acurácia Treinamento:  0.57396\n",
            "Época:  89 Loss Treinamento:  12683.452974021353 Acurácia Treinamento:  0.57386\n",
            "Época:  90 Loss Treinamento:  12681.829157518314 Acurácia Treinamento:  0.57386\n",
            "Época:  91 Loss Treinamento:  12680.232475168317 Acurácia Treinamento:  0.57388\n",
            "Época:  92 Loss Treinamento:  12678.66215818564 Acurácia Treinamento:  0.5742\n",
            "Época:  93 Loss Treinamento:  12677.117468435508 Acurácia Treinamento:  0.57442\n",
            "Época:  94 Loss Treinamento:  12675.597696902161 Acurácia Treinamento:  0.57458\n",
            "Época:  95 Loss Treinamento:  12674.102162250187 Acurácia Treinamento:  0.5746\n",
            "Época:  96 Loss Treinamento:  12672.630209467923 Acurácia Treinamento:  0.5747\n",
            "Época:  97 Loss Treinamento:  12671.181208590471 Acurácia Treinamento:  0.57474\n",
            "Época:  98 Loss Treinamento:  12669.754553494338 Acurácia Treinamento:  0.57484\n",
            "Época:  99 Loss Treinamento:  12668.349660764792 Acurácia Treinamento:  0.57482\n"
          ],
          "name": "stdout"
        },
        {
          "output_type": "display_data",
          "data": {
            "image/png": "[encoded data removed]",
            "text/plain": [
              "<Figure size 432x288 with 1 Axes>"
            ]
          },
          "metadata": {
            "tags": []
          }
        },
        {
          "output_type": "display_data",
          "data": {
            "image/png": "[encoded data removed]",
            "text/plain": [
              "<Figure size 432x288 with 1 Axes>"
            ]
          },
          "metadata": {
            "tags": []
          }
        },
        {
          "output_type": "stream",
          "text": [
            "Acurácia Avaliação:  0.6293\n"
          ],
          "name": "stdout"
        }
      ]
    },
    {
      "metadata": {
        "id": "34tgSE5IOnZS",
        "colab_type": "code",
        "colab": {}
      },
      "cell_type": "code",
      "source": [
        "#airplane"
      ],
      "execution_count": 0,
      "outputs": []
    },
    {
      "metadata": {
        "id": "qq7yqmt_OnZX",
        "colab_type": "code",
        "colab": {}
      },
      "cell_type": "code",
      "source": [
        "linear_dataset_train_plane = []\n",
        "target_labels = ('plane')\n",
        "for img,category in grayscale_dataset_train:\n",
        "    linear_img = img.reshape(img.shape[0]*img.shape[1],1) / 255\n",
        "    if category in target_labels:\n",
        "        label = 1\n",
        "    else:\n",
        "        label = 0\n",
        "    linear_dataset_train_plane.append((linear_img,label))\n",
        "    \n",
        "linear_dataset_test_plane = []\n",
        "target_labels = ('plane')\n",
        "for img,category in grayscale_dataset_test:\n",
        "    linear_img = img.reshape(img.shape[0]*img.shape[1],1) / 255\n",
        "    if category in target_labels:\n",
        "        label = 1\n",
        "    else:\n",
        "        label = 0\n",
        "    linear_dataset_test_plane.append((linear_img,label))    "
      ],
      "execution_count": 0,
      "outputs": []
    },
    {
      "metadata": {
        "id": "h-e-8uF7OnZd",
        "colab_type": "code",
        "outputId": "3c523b86-5670-4a40-b34a-7ed3b79069ef",
        "colab": {
          "base_uri": "https://localhost:8080/",
          "height": 2325
        }
      },
      "cell_type": "code",
      "source": [
        "#treinamento \n",
        "\n",
        "new_weights_plane = training(linear_dataset_train_plane)\n",
        "\n",
        "#avaliacao\n",
        "\n",
        "evaluate(new_weights_plane, linear_dataset_test_plane)"
      ],
      "execution_count": 0,
      "outputs": [
        {
          "output_type": "stream",
          "text": [
            "Época:  0 Loss Treinamento:  18835.239392246673 Acurácia Treinamento:  0.42722\n",
            "Época:  1 Loss Treinamento:  15545.341053633325 Acurácia Treinamento:  0.49752\n",
            "Época:  2 Loss Treinamento:  14704.249131416807 Acurácia Treinamento:  0.52066\n",
            "Época:  3 Loss Treinamento:  14144.64667987466 Acurácia Treinamento:  0.53774\n",
            "Época:  4 Loss Treinamento:  13723.598053908172 Acurácia Treinamento:  0.5512\n",
            "Época:  5 Loss Treinamento:  13400.785597587967 Acurácia Treinamento:  0.56268\n",
            "Época:  6 Loss Treinamento:  13151.401465635832 Acurácia Treinamento:  0.57196\n",
            "Época:  7 Loss Treinamento:  12956.582685120187 Acurácia Treinamento:  0.57966\n",
            "Época:  8 Loss Treinamento:  12802.153313843259 Acurácia Treinamento:  0.58548\n",
            "Época:  9 Loss Treinamento:  12677.788136732866 Acurácia Treinamento:  0.58998\n",
            "Época:  10 Loss Treinamento:  12576.075321861908 Acurácia Treinamento:  0.5934\n",
            "Época:  11 Loss Treinamento:  12491.693879467668 Acurácia Treinamento:  0.59732\n",
            "Época:  12 Loss Treinamento:  12420.789639368917 Acurácia Treinamento:  0.59972\n",
            "Época:  13 Loss Treinamento:  12360.532785167237 Acurácia Treinamento:  0.60212\n",
            "Época:  14 Loss Treinamento:  12308.812761253706 Acurácia Treinamento:  0.60408\n",
            "Época:  15 Loss Treinamento:  12264.029598460227 Acurácia Treinamento:  0.60562\n",
            "Época:  16 Loss Treinamento:  12224.95085887953 Acurácia Treinamento:  0.60718\n",
            "Época:  17 Loss Treinamento:  12190.61276164434 Acurácia Treinamento:  0.6084\n",
            "Época:  18 Loss Treinamento:  12160.251045281664 Acurácia Treinamento:  0.6101\n",
            "Época:  19 Loss Treinamento:  12133.251958547706 Acurácia Treinamento:  0.61132\n",
            "Época:  20 Loss Treinamento:  12109.117004791644 Acurácia Treinamento:  0.6123\n",
            "Época:  21 Loss Treinamento:  12087.437195007153 Acurácia Treinamento:  0.6133\n",
            "Época:  22 Loss Treinamento:  12067.873962003287 Acurácia Treinamento:  0.61398\n",
            "Época:  23 Loss Treinamento:  12050.144806290344 Acurácia Treinamento:  0.61472\n",
            "Época:  24 Loss Treinamento:  12034.012351075968 Acurácia Treinamento:  0.6156\n",
            "Época:  25 Loss Treinamento:  12019.27588819589 Acurácia Treinamento:  0.61574\n",
            "Época:  26 Loss Treinamento:  12005.764769134135 Acurácia Treinamento:  0.61624\n",
            "Época:  27 Loss Treinamento:  11993.333180779395 Acurácia Treinamento:  0.61696\n",
            "Época:  28 Loss Treinamento:  11981.855973451684 Acurácia Treinamento:  0.6174\n",
            "Época:  29 Loss Treinamento:  11971.225298020927 Acurácia Treinamento:  0.61812\n",
            "Época:  30 Loss Treinamento:  11961.347872025812 Acurácia Treinamento:  0.61842\n",
            "Época:  31 Loss Treinamento:  11952.14273987242 Acurácia Treinamento:  0.61894\n",
            "Época:  32 Loss Treinamento:  11943.53942486577 Acurácia Treinamento:  0.6193\n",
            "Época:  33 Loss Treinamento:  11935.476394777195 Acurácia Treinamento:  0.61992\n",
            "Época:  34 Loss Treinamento:  11927.899780383268 Acurácia Treinamento:  0.62036\n",
            "Época:  35 Loss Treinamento:  11920.762299659098 Acurácia Treinamento:  0.62096\n",
            "Época:  36 Loss Treinamento:  11914.022350358033 Acurácia Treinamento:  0.62102\n",
            "Época:  37 Loss Treinamento:  11907.643241341508 Acurácia Treinamento:  0.62122\n",
            "Época:  38 Loss Treinamento:  11901.592538922196 Acurácia Treinamento:  0.62134\n",
            "Época:  39 Loss Treinamento:  11895.841509064343 Acurácia Treinamento:  0.62154\n",
            "Época:  40 Loss Treinamento:  11890.364639866219 Acurácia Treinamento:  0.6217\n",
            "Época:  41 Loss Treinamento:  11885.139231583644 Acurácia Treinamento:  0.62188\n",
            "Época:  42 Loss Treinamento:  11880.145043714865 Acurácia Treinamento:  0.62202\n",
            "Época:  43 Loss Treinamento:  11875.363990461006 Acurácia Treinamento:  0.62224\n",
            "Época:  44 Loss Treinamento:  11870.77987734977 Acurácia Treinamento:  0.62236\n",
            "Época:  45 Loss Treinamento:  11866.37817298455 Acurácia Treinamento:  0.62264\n",
            "Época:  46 Loss Treinamento:  11862.145810854447 Acurácia Treinamento:  0.62334\n",
            "Época:  47 Loss Treinamento:  11858.071016937392 Acurácia Treinamento:  0.62386\n",
            "Época:  48 Loss Treinamento:  11854.143159483165 Acurácia Treinamento:  0.62402\n",
            "Época:  49 Loss Treinamento:  11850.352617914443 Acurácia Treinamento:  0.62414\n",
            "Época:  50 Loss Treinamento:  11846.690668236188 Acurácia Treinamento:  0.62436\n",
            "Época:  51 Loss Treinamento:  11843.149382727053 Acurácia Treinamento:  0.62452\n",
            "Época:  52 Loss Treinamento:  11839.72154200781 Acurácia Treinamento:  0.6245\n",
            "Época:  53 Loss Treinamento:  11836.400557853924 Acurácia Treinamento:  0.62456\n",
            "Época:  54 Loss Treinamento:  11833.180405347093 Acurácia Treinamento:  0.625\n",
            "Época:  55 Loss Treinamento:  11830.055563156613 Acurácia Treinamento:  0.62504\n",
            "Época:  56 Loss Treinamento:  11827.02096090675 Acurácia Treinamento:  0.6254\n",
            "Época:  57 Loss Treinamento:  11824.07193273213 Acurácia Treinamento:  0.62542\n",
            "Época:  58 Loss Treinamento:  11821.204176235096 Acurácia Treinamento:  0.62558\n",
            "Época:  59 Loss Treinamento:  11818.413716175892 Acurácia Treinamento:  0.62594\n",
            "Época:  60 Loss Treinamento:  11815.696872302577 Acurácia Treinamento:  0.62604\n",
            "Época:  61 Loss Treinamento:  11813.050230815821 Acurácia Treinamento:  0.62622\n",
            "Época:  62 Loss Treinamento:  11810.470619021651 Acurácia Treinamento:  0.6264\n",
            "Época:  63 Loss Treinamento:  11807.95508278706 Acurácia Treinamento:  0.62658\n",
            "Época:  64 Loss Treinamento:  11805.50086646255 Acurácia Treinamento:  0.6268\n",
            "Época:  65 Loss Treinamento:  11803.105394975724 Acurácia Treinamento:  0.62696\n",
            "Época:  66 Loss Treinamento:  11800.766257839467 Acurácia Treinamento:  0.62714\n",
            "Época:  67 Loss Treinamento:  11798.4811948511 Acurácia Treinamento:  0.62722\n",
            "Época:  68 Loss Treinamento:  11796.248083284443 Acurácia Treinamento:  0.62734\n",
            "Época:  69 Loss Treinamento:  11794.064926402098 Acurácia Treinamento:  0.62722\n",
            "Época:  70 Loss Treinamento:  11791.929843138638 Acurácia Treinamento:  0.62732\n",
            "Época:  71 Loss Treinamento:  11789.841058818873 Acurácia Treinamento:  0.6274\n",
            "Época:  72 Loss Treinamento:  11787.796896797698 Acurácia Treinamento:  0.6276\n",
            "Época:  73 Loss Treinamento:  11785.795770915453 Acurácia Treinamento:  0.62758\n",
            "Época:  74 Loss Treinamento:  11783.836178682246 Acurácia Treinamento:  0.6276\n",
            "Época:  75 Loss Treinamento:  11781.916695107599 Acurácia Treinamento:  0.62756\n",
            "Época:  76 Loss Treinamento:  11780.035967108444 Acurácia Treinamento:  0.62762\n",
            "Época:  77 Loss Treinamento:  11778.192708431066 Acurácia Treinamento:  0.62796\n",
            "Época:  78 Loss Treinamento:  11776.385695033681 Acurácia Treinamento:  0.62826\n",
            "Época:  79 Loss Treinamento:  11774.613760880588 Acurácia Treinamento:  0.62854\n",
            "Época:  80 Loss Treinamento:  11772.87579410536 Acurácia Treinamento:  0.62854\n",
            "Época:  81 Loss Treinamento:  11771.170733503597 Acurácia Treinamento:  0.6286\n",
            "Época:  82 Loss Treinamento:  11769.497565325144 Acurácia Treinamento:  0.62868\n",
            "Época:  83 Loss Treinamento:  11767.855320330395 Acurácia Treinamento:  0.62882\n",
            "Época:  84 Loss Treinamento:  11766.243071088973 Acurácia Treinamento:  0.62888\n",
            "Época:  85 Loss Treinamento:  11764.659929494956 Acurácia Treinamento:  0.62896\n",
            "Época:  86 Loss Treinamento:  11763.105044477505 Acurácia Treinamento:  0.62908\n",
            "Época:  87 Loss Treinamento:  11761.577599888993 Acurácia Treinamento:  0.62916\n",
            "Época:  88 Loss Treinamento:  11760.076812551913 Acurácia Treinamento:  0.62926\n",
            "Época:  89 Loss Treinamento:  11758.601930454426 Acurácia Treinamento:  0.6295\n",
            "Época:  90 Loss Treinamento:  11757.15223107302 Acurácia Treinamento:  0.62962\n",
            "Época:  91 Loss Treinamento:  11755.727019819436 Acurácia Treinamento:  0.62968\n",
            "Época:  92 Loss Treinamento:  11754.325628594017 Acurácia Treinamento:  0.62972\n",
            "Época:  93 Loss Treinamento:  11752.947414440632 Acurácia Treinamento:  0.62982\n",
            "Época:  94 Loss Treinamento:  11751.591758290586 Acurácia Treinamento:  0.62986\n",
            "Época:  95 Loss Treinamento:  11750.258063791163 Acurácia Treinamento:  0.63008\n",
            "Época:  96 Loss Treinamento:  11748.945756209518 Acurácia Treinamento:  0.63042\n",
            "Época:  97 Loss Treinamento:  11747.654281407533 Acurácia Treinamento:  0.63052\n",
            "Época:  98 Loss Treinamento:  11746.383104878845 Acurácia Treinamento:  0.63038\n",
            "Época:  99 Loss Treinamento:  11745.131710847598 Acurácia Treinamento:  0.6305\n"
          ],
          "name": "stdout"
        },
        {
          "output_type": "display_data",
          "data": {
            "image/png": "[encoded data removed]",
            "text/plain": [
              "<Figure size 432x288 with 1 Axes>"
            ]
          },
          "metadata": {
            "tags": []
          }
        },
        {
          "output_type": "display_data",
          "data": {
            "image/png": "[encoded data removed]",
            "text/plain": [
              "<Figure size 432x288 with 1 Axes>"
            ]
          },
          "metadata": {
            "tags": []
          }
        },
        {
          "output_type": "stream",
          "text": [
            "Acurácia Avaliação:  0.6195\n"
          ],
          "name": "stdout"
        }
      ]
    },
    {
      "metadata": {
        "id": "5N_rZA6qOnZi",
        "colab_type": "code",
        "colab": {}
      },
      "cell_type": "code",
      "source": [
        "#car"
      ],
      "execution_count": 0,
      "outputs": []
    },
    {
      "metadata": {
        "id": "0HfpccFVOnZo",
        "colab_type": "code",
        "colab": {}
      },
      "cell_type": "code",
      "source": [
        "linear_dataset_train_car = []\n",
        "target_labels = ('car')\n",
        "for img,category in grayscale_dataset_train:\n",
        "    linear_img = img.reshape(img.shape[0]*img.shape[1],1) / 255\n",
        "    if category in target_labels:\n",
        "        label = 1\n",
        "    else:\n",
        "        label = 0\n",
        "    linear_dataset_train_car.append((linear_img,label))\n",
        "    \n",
        "linear_dataset_test_car = []\n",
        "target_labels = ('car')\n",
        "for img,category in grayscale_dataset_test:\n",
        "    linear_img = img.reshape(img.shape[0]*img.shape[1],1) / 255\n",
        "    if category in target_labels:\n",
        "        label = 1\n",
        "    else:\n",
        "        label = 0\n",
        "    linear_dataset_test_car.append((linear_img,label))    "
      ],
      "execution_count": 0,
      "outputs": []
    },
    {
      "metadata": {
        "id": "0rxS79OAOnZ2",
        "colab_type": "code",
        "outputId": "d24a43b3-490a-4f81-d219-1f9a7403b1bc",
        "colab": {
          "base_uri": "https://localhost:8080/",
          "height": 2325
        }
      },
      "cell_type": "code",
      "source": [
        "#treinamento \n",
        "\n",
        "new_weights_car = training(linear_dataset_train_car)\n",
        "\n",
        "#avaliacao\n",
        "\n",
        "evaluate(new_weights_car, linear_dataset_test_car)"
      ],
      "execution_count": 0,
      "outputs": [
        {
          "output_type": "stream",
          "text": [
            "Época:  0 Loss Treinamento:  13891.311900982599 Acurácia Treinamento:  0.61304\n",
            "Época:  1 Loss Treinamento:  11024.505383548942 Acurácia Treinamento:  0.68896\n",
            "Época:  2 Loss Treinamento:  10737.144942418554 Acurácia Treinamento:  0.69584\n",
            "Época:  3 Loss Treinamento:  10559.885647416668 Acurácia Treinamento:  0.70036\n",
            "Época:  4 Loss Treinamento:  10421.492953356725 Acurácia Treinamento:  0.7034\n",
            "Época:  5 Loss Treinamento:  10310.608910611822 Acurácia Treinamento:  0.70548\n",
            "Época:  6 Loss Treinamento:  10221.364949246248 Acurácia Treinamento:  0.70672\n",
            "Época:  7 Loss Treinamento:  10149.087969887169 Acurácia Treinamento:  0.70846\n",
            "Época:  8 Loss Treinamento:  10090.096654081524 Acurácia Treinamento:  0.7096\n",
            "Época:  9 Loss Treinamento:  10041.50460997635 Acurácia Treinamento:  0.71088\n",
            "Época:  10 Loss Treinamento:  10001.047040355203 Acurácia Treinamento:  0.71132\n",
            "Época:  11 Loss Treinamento:  9966.956925850955 Acurácia Treinamento:  0.71252\n",
            "Época:  12 Loss Treinamento:  9937.867437725667 Acurácia Treinamento:  0.71346\n",
            "Época:  13 Loss Treinamento:  9912.728642682916 Acurácia Treinamento:  0.71406\n",
            "Época:  14 Loss Treinamento:  9890.736663224536 Acurácia Treinamento:  0.7147\n",
            "Época:  15 Loss Treinamento:  9871.275630905366 Acurácia Treinamento:  0.7148\n",
            "Época:  16 Loss Treinamento:  9853.871892054043 Acurácia Treinamento:  0.71534\n",
            "Época:  17 Loss Treinamento:  9838.158916433733 Acurácia Treinamento:  0.71606\n",
            "Época:  18 Loss Treinamento:  9823.850917913813 Acurácia Treinamento:  0.71634\n",
            "Época:  19 Loss Treinamento:  9810.723225743606 Acurácia Treinamento:  0.71698\n",
            "Época:  20 Loss Treinamento:  9798.597721127564 Acurácia Treinamento:  0.71724\n",
            "Época:  21 Loss Treinamento:  9787.33200503022 Acurácia Treinamento:  0.7176\n",
            "Época:  22 Loss Treinamento:  9776.811293345036 Acurácia Treinamento:  0.71756\n",
            "Época:  23 Loss Treinamento:  9766.94230598934 Acurácia Treinamento:  0.71778\n",
            "Época:  24 Loss Treinamento:  9757.648621559292 Acurácia Treinamento:  0.71742\n",
            "Época:  25 Loss Treinamento:  9748.867118131571 Acurácia Treinamento:  0.71764\n",
            "Época:  26 Loss Treinamento:  9740.54522660629 Acurácia Treinamento:  0.71772\n",
            "Época:  27 Loss Treinamento:  9732.638797627107 Acurácia Treinamento:  0.71814\n",
            "Época:  28 Loss Treinamento:  9725.11043585755 Acurácia Treinamento:  0.7182\n",
            "Época:  29 Loss Treinamento:  9717.928192979074 Acurácia Treinamento:  0.71834\n",
            "Época:  30 Loss Treinamento:  9711.064537838158 Acurácia Treinamento:  0.71858\n",
            "Época:  31 Loss Treinamento:  9704.495541914488 Acurácia Treinamento:  0.71888\n",
            "Época:  32 Loss Treinamento:  9698.200232854868 Acurácia Treinamento:  0.71912\n",
            "Época:  33 Loss Treinamento:  9692.160079683445 Acurácia Treinamento:  0.71896\n",
            "Época:  34 Loss Treinamento:  9686.358581519728 Acurácia Treinamento:  0.71924\n",
            "Época:  35 Loss Treinamento:  9680.7809378735 Acurácia Treinamento:  0.71926\n",
            "Época:  36 Loss Treinamento:  9675.413783383385 Acurácia Treinamento:  0.71938\n",
            "Época:  37 Loss Treinamento:  9670.244973568786 Acurácia Treinamento:  0.71964\n",
            "Época:  38 Loss Treinamento:  9665.263411045604 Acurácia Treinamento:  0.71978\n",
            "Época:  39 Loss Treinamento:  9660.458903888948 Acurácia Treinamento:  0.72002\n",
            "Época:  40 Loss Treinamento:  9655.822049598615 Acurácia Treinamento:  0.72016\n",
            "Época:  41 Loss Treinamento:  9651.344139486202 Acurácia Treinamento:  0.72038\n",
            "Época:  42 Loss Treinamento:  9647.017079397028 Acurácia Treinamento:  0.72052\n",
            "Época:  43 Loss Treinamento:  9642.83332352699 Acurácia Treinamento:  0.72076\n",
            "Época:  44 Loss Treinamento:  9638.785818774086 Acurácia Treinamento:  0.7211\n",
            "Época:  45 Loss Treinamento:  9634.867957586226 Acurácia Treinamento:  0.72126\n",
            "Época:  46 Loss Treinamento:  9631.073537694549 Acurácia Treinamento:  0.72148\n",
            "Época:  47 Loss Treinamento:  9627.396727447434 Acurácia Treinamento:  0.72172\n",
            "Época:  48 Loss Treinamento:  9623.832035721238 Acurácia Treinamento:  0.72194\n",
            "Época:  49 Loss Treinamento:  9620.374285596015 Acurácia Treinamento:  0.72208\n",
            "Época:  50 Loss Treinamento:  9617.018591138081 Acurácia Treinamento:  0.72232\n",
            "Época:  51 Loss Treinamento:  9613.760336775907 Acurácia Treinamento:  0.72236\n",
            "Época:  52 Loss Treinamento:  9610.59515883837 Acurácia Treinamento:  0.72246\n",
            "Época:  53 Loss Treinamento:  9607.518928927684 Acurácia Treinamento:  0.72252\n",
            "Época:  54 Loss Treinamento:  9604.52773884502 Acurácia Treinamento:  0.72252\n",
            "Época:  55 Loss Treinamento:  9601.617886850876 Acurácia Treinamento:  0.72268\n",
            "Época:  56 Loss Treinamento:  9598.78586507728 Acurácia Treinamento:  0.72264\n",
            "Época:  57 Loss Treinamento:  9596.028347943153 Acurácia Treinamento:  0.72268\n",
            "Época:  58 Loss Treinamento:  9593.342181450264 Acurácia Treinamento:  0.72278\n",
            "Época:  59 Loss Treinamento:  9590.724373259456 Acurácia Treinamento:  0.72262\n",
            "Época:  60 Loss Treinamento:  9588.17208345925 Acurácia Treinamento:  0.72268\n",
            "Época:  61 Loss Treinamento:  9585.682615960572 Acurácia Treinamento:  0.72264\n",
            "Época:  62 Loss Treinamento:  9583.253410450814 Acurácia Treinamento:  0.72282\n",
            "Época:  63 Loss Treinamento:  9580.882034862649 Acurácia Treinamento:  0.72292\n",
            "Época:  64 Loss Treinamento:  9578.566178310095 Acurácia Treinamento:  0.72302\n",
            "Época:  65 Loss Treinamento:  9576.303644451731 Acurácia Treinamento:  0.72294\n",
            "Época:  66 Loss Treinamento:  9574.092345251818 Acurácia Treinamento:  0.7232\n",
            "Época:  67 Loss Treinamento:  9571.930295109258 Acurácia Treinamento:  0.7232\n",
            "Época:  68 Loss Treinamento:  9569.815605323633 Acurácia Treinamento:  0.72316\n",
            "Época:  69 Loss Treinamento:  9567.74647888194 Acurácia Treinamento:  0.72332\n",
            "Época:  70 Loss Treinamento:  9565.721205541953 Acurácia Treinamento:  0.72336\n",
            "Época:  71 Loss Treinamento:  9563.738157190368 Acurácia Treinamento:  0.7235\n",
            "Época:  72 Loss Treinamento:  9561.795783463938 Acurácia Treinamento:  0.72362\n",
            "Época:  73 Loss Treinamento:  9559.8926076142 Acurácia Treinamento:  0.72362\n",
            "Época:  74 Loss Treinamento:  9558.027222602772 Acurácia Treinamento:  0.72352\n",
            "Época:  75 Loss Treinamento:  9556.198287411908 Acurácia Treinamento:  0.72356\n",
            "Época:  76 Loss Treinamento:  9554.4045235609 Acurácia Treinamento:  0.72366\n",
            "Época:  77 Loss Treinamento:  9552.644711813004 Acurácia Treinamento:  0.72378\n",
            "Época:  78 Loss Treinamento:  9550.917689064883 Acurácia Treinamento:  0.72372\n",
            "Época:  79 Loss Treinamento:  9549.22234540705 Acurácia Treinamento:  0.72382\n",
            "Época:  80 Loss Treinamento:  9547.557621346661 Acurácia Treinamento:  0.72394\n",
            "Época:  81 Loss Treinamento:  9545.922505181135 Acurácia Treinamento:  0.72424\n",
            "Época:  82 Loss Treinamento:  9544.316030517972 Acurácia Treinamento:  0.72408\n",
            "Época:  83 Loss Treinamento:  9542.737273929946 Acurácia Treinamento:  0.72424\n",
            "Época:  84 Loss Treinamento:  9541.185352738285 Acurácia Treinamento:  0.72428\n",
            "Época:  85 Loss Treinamento:  9539.659422919029 Acurácia Treinamento:  0.72428\n",
            "Época:  86 Loss Treinamento:  9538.15867712239 Acurácia Treinamento:  0.72442\n",
            "Época:  87 Loss Treinamento:  9536.682342801747 Acurácia Treinamento:  0.72448\n",
            "Época:  88 Loss Treinamento:  9535.229680444545 Acurácia Treinamento:  0.7244\n",
            "Época:  89 Loss Treinamento:  9533.799981900585 Acurácia Treinamento:  0.72442\n",
            "Época:  90 Loss Treinamento:  9532.392568800866 Acurácia Treinamento:  0.72448\n",
            "Época:  91 Loss Treinamento:  9531.006791062808 Acurácia Treinamento:  0.72468\n",
            "Época:  92 Loss Treinamento:  9529.642025477895 Acurácia Treinamento:  0.72456\n",
            "Época:  93 Loss Treinamento:  9528.297674375272 Acurácia Treinamento:  0.72464\n",
            "Época:  94 Loss Treinamento:  9526.973164358955 Acurácia Treinamento:  0.7247\n",
            "Época:  95 Loss Treinamento:  9525.667945111838 Acurácia Treinamento:  0.72472\n",
            "Época:  96 Loss Treinamento:  9524.38148826689 Acurácia Treinamento:  0.72476\n",
            "Época:  97 Loss Treinamento:  9523.113286338068 Acurácia Treinamento:  0.72476\n",
            "Época:  98 Loss Treinamento:  9521.862851708636 Acurácia Treinamento:  0.72484\n",
            "Época:  99 Loss Treinamento:  9520.629715675137 Acurácia Treinamento:  0.725\n"
          ],
          "name": "stdout"
        },
        {
          "output_type": "display_data",
          "data": {
            "image/png": "[encoded data removed]",
            "text/plain": [
              "<Figure size 432x288 with 1 Axes>"
            ]
          },
          "metadata": {
            "tags": []
          }
        },
        {
          "output_type": "display_data",
          "data": {
            "image/png": "[encoded data removed]",
            "text/plain": [
              "<Figure size 432x288 with 1 Axes>"
            ]
          },
          "metadata": {
            "tags": []
          }
        },
        {
          "output_type": "stream",
          "text": [
            "Acurácia Avaliação:  0.6339\n"
          ],
          "name": "stdout"
        }
      ]
    },
    {
      "metadata": {
        "id": "DCPqio9iOnaB",
        "colab_type": "code",
        "colab": {}
      },
      "cell_type": "code",
      "source": [
        "#ship ship"
      ],
      "execution_count": 0,
      "outputs": []
    },
    {
      "metadata": {
        "id": "SJPUfAFjOnaT",
        "colab_type": "code",
        "colab": {}
      },
      "cell_type": "code",
      "source": [
        "linear_dataset_train_ship = []\n",
        "target_labels = ('ship')\n",
        "for img,category in grayscale_dataset_train:\n",
        "    linear_img = img.reshape(img.shape[0]*img.shape[1],1) / 255\n",
        "    if category in target_labels:\n",
        "        label = 1\n",
        "    else:\n",
        "        label = 0\n",
        "    linear_dataset_train_ship.append((linear_img,label))\n",
        "    \n",
        "linear_dataset_test_ship = []\n",
        "target_labels = ('ship')\n",
        "for img,category in grayscale_dataset_test:\n",
        "    linear_img = img.reshape(img.shape[0]*img.shape[1],1) / 255\n",
        "    if category in target_labels:\n",
        "        label = 1\n",
        "    else:\n",
        "        label = 0\n",
        "    linear_dataset_test_ship.append((linear_img,label))    "
      ],
      "execution_count": 0,
      "outputs": []
    },
    {
      "metadata": {
        "id": "K_4u0W2IOnaa",
        "colab_type": "code",
        "outputId": "f5658f03-184b-4f94-a7ad-19cb42b867d6",
        "colab": {
          "base_uri": "https://localhost:8080/",
          "height": 2325
        }
      },
      "cell_type": "code",
      "source": [
        "#treinamento \n",
        "\n",
        "new_weights_ship = training(linear_dataset_train_ship)\n",
        "\n",
        "#avaliacao\n",
        "\n",
        "evaluate(new_weights_ship, linear_dataset_test_ship)"
      ],
      "execution_count": 0,
      "outputs": [
        {
          "output_type": "stream",
          "text": [
            "Época:  0 Loss Treinamento:  13227.72306449066 Acurácia Treinamento:  0.61462\n",
            "Época:  1 Loss Treinamento:  12480.380445043018 Acurácia Treinamento:  0.63364\n",
            "Época:  2 Loss Treinamento:  12138.204503113164 Acurácia Treinamento:  0.63842\n",
            "Época:  3 Loss Treinamento:  11896.945090656163 Acurácia Treinamento:  0.64358\n",
            "Época:  4 Loss Treinamento:  11711.681724376776 Acurácia Treinamento:  0.64894\n",
            "Época:  5 Loss Treinamento:  11563.369376771605 Acurácia Treinamento:  0.65328\n",
            "Época:  6 Loss Treinamento:  11442.181917304295 Acurácia Treinamento:  0.6569\n",
            "Época:  7 Loss Treinamento:  11341.970335747672 Acurácia Treinamento:  0.65966\n",
            "Época:  8 Loss Treinamento:  11258.314376904622 Acurácia Treinamento:  0.66216\n",
            "Época:  9 Loss Treinamento:  11187.830672284483 Acurácia Treinamento:  0.66516\n",
            "Época:  10 Loss Treinamento:  11127.880850499558 Acurácia Treinamento:  0.66712\n",
            "Época:  11 Loss Treinamento:  11076.40124131625 Acurácia Treinamento:  0.6687\n",
            "Época:  12 Loss Treinamento:  11031.777766168565 Acurácia Treinamento:  0.67062\n",
            "Época:  13 Loss Treinamento:  10992.746904498741 Acurácia Treinamento:  0.67202\n",
            "Época:  14 Loss Treinamento:  10958.31693320588 Acurácia Treinamento:  0.673\n",
            "Época:  15 Loss Treinamento:  10927.706047803038 Acurácia Treinamento:  0.67392\n",
            "Época:  16 Loss Treinamento:  10900.29434895813 Acurácia Treinamento:  0.6753\n",
            "Época:  17 Loss Treinamento:  10875.58692449204 Acurácia Treinamento:  0.67614\n",
            "Época:  18 Loss Treinamento:  10853.185618559559 Acurácia Treinamento:  0.67666\n",
            "Época:  19 Loss Treinamento:  10832.767497073373 Acurácia Treinamento:  0.67732\n",
            "Época:  20 Loss Treinamento:  10814.068421982447 Acurácia Treinamento:  0.67772\n",
            "Época:  21 Loss Treinamento:  10796.870499673125 Acurácia Treinamento:  0.67852\n",
            "Época:  22 Loss Treinamento:  10780.992458673029 Acurácia Treinamento:  0.67922\n",
            "Época:  23 Loss Treinamento:  10766.282241174224 Acurácia Treinamento:  0.67944\n",
            "Época:  24 Loss Treinamento:  10752.611269843108 Acurácia Treinamento:  0.67998\n",
            "Época:  25 Loss Treinamento:  10739.869985740943 Acurácia Treinamento:  0.68028\n",
            "Época:  26 Loss Treinamento:  10727.964354200718 Acurácia Treinamento:  0.68092\n",
            "Época:  27 Loss Treinamento:  10716.81311100448 Acurácia Treinamento:  0.68102\n",
            "Época:  28 Loss Treinamento:  10706.345577514387 Acurácia Treinamento:  0.68136\n",
            "Época:  29 Loss Treinamento:  10696.499915359804 Acurácia Treinamento:  0.68134\n",
            "Época:  30 Loss Treinamento:  10687.221722584174 Acurácia Treinamento:  0.68144\n",
            "Época:  31 Loss Treinamento:  10678.462896568199 Acurácia Treinamento:  0.68194\n",
            "Época:  32 Loss Treinamento:  10670.18070659857 Acurácia Treinamento:  0.68214\n",
            "Época:  33 Loss Treinamento:  10662.337032174097 Acurácia Treinamento:  0.68242\n",
            "Época:  34 Loss Treinamento:  10654.89773312577 Acurácia Treinamento:  0.68268\n",
            "Época:  35 Loss Treinamento:  10647.832125218814 Acurácia Treinamento:  0.68296\n",
            "Época:  36 Loss Treinamento:  10641.11254068173 Acurácia Treinamento:  0.68308\n",
            "Época:  37 Loss Treinamento:  10634.713957539687 Acurácia Treinamento:  0.68314\n",
            "Época:  38 Loss Treinamento:  10628.613685033786 Acurácia Treinamento:  0.6835\n",
            "Época:  39 Loss Treinamento:  10622.791095048324 Acurácia Treinamento:  0.68364\n",
            "Época:  40 Loss Treinamento:  10617.227391505474 Acurácia Treinamento:  0.68372\n",
            "Época:  41 Loss Treinamento:  10611.905411293807 Acurácia Treinamento:  0.68396\n",
            "Época:  42 Loss Treinamento:  10606.809451533885 Acurácia Treinamento:  0.68406\n",
            "Época:  43 Loss Treinamento:  10601.925118984671 Acurácia Treinamento:  0.68434\n",
            "Época:  44 Loss Treinamento:  10597.239198161305 Acurácia Treinamento:  0.68448\n",
            "Época:  45 Loss Treinamento:  10592.739535361847 Acurácia Treinamento:  0.6845\n",
            "Época:  46 Loss Treinamento:  10588.414936289188 Acurácia Treinamento:  0.68476\n",
            "Época:  47 Loss Treinamento:  10584.255075355384 Acurácia Treinamento:  0.68488\n",
            "Época:  48 Loss Treinamento:  10580.250415075443 Acurácia Treinamento:  0.68496\n",
            "Época:  49 Loss Treinamento:  10576.392134211885 Acurácia Treinamento:  0.68512\n",
            "Época:  50 Loss Treinamento:  10572.672063545833 Acurácia Treinamento:  0.685\n",
            "Época:  51 Loss Treinamento:  10569.082628324408 Acurácia Treinamento:  0.68522\n",
            "Época:  52 Loss Treinamento:  10565.616796569626 Acurácia Treinamento:  0.68516\n",
            "Época:  53 Loss Treinamento:  10562.268032559281 Acurácia Treinamento:  0.68528\n",
            "Época:  54 Loss Treinamento:  10559.030254879273 Acurácia Treinamento:  0.68538\n",
            "Época:  55 Loss Treinamento:  10555.89779853434 Acurácia Treinamento:  0.68552\n",
            "Época:  56 Loss Treinamento:  10552.865380670066 Acurácia Treinamento:  0.68556\n",
            "Época:  57 Loss Treinamento:  10549.928069514383 Acurácia Treinamento:  0.68536\n",
            "Época:  58 Loss Treinamento:  10547.08125620008 Acurácia Treinamento:  0.6855\n",
            "Época:  59 Loss Treinamento:  10544.320629166938 Acurácia Treinamento:  0.68586\n",
            "Época:  60 Loss Treinamento:  10541.642150879297 Acurácia Treinamento:  0.6858\n",
            "Época:  61 Loss Treinamento:  10539.042036628096 Acurácia Treinamento:  0.68594\n",
            "Época:  62 Loss Treinamento:  10536.516735208403 Acurácia Treinamento:  0.68618\n",
            "Época:  63 Loss Treinamento:  10534.062911287918 Acurácia Treinamento:  0.68634\n",
            "Época:  64 Loss Treinamento:  10531.677429305808 Acurácia Treinamento:  0.68642\n",
            "Época:  65 Loss Treinamento:  10529.357338751208 Acurácia Treinamento:  0.68648\n",
            "Época:  66 Loss Treinamento:  10527.099860694885 Acurácia Treinamento:  0.68656\n",
            "Época:  67 Loss Treinamento:  10524.902375452159 Acurácia Treinamento:  0.68668\n",
            "Época:  68 Loss Treinamento:  10522.762411276544 Acurácia Treinamento:  0.68658\n",
            "Época:  69 Loss Treinamento:  10520.677633983907 Acurácia Treinamento:  0.68672\n",
            "Época:  70 Loss Treinamento:  10518.645837428045 Acurácia Treinamento:  0.6867\n",
            "Época:  71 Loss Treinamento:  10516.664934744484 Acurácia Treinamento:  0.6869\n",
            "Época:  72 Loss Treinamento:  10514.732950298509 Acurácia Treinamento:  0.68686\n",
            "Época:  73 Loss Treinamento:  10512.848012270755 Acurácia Treinamento:  0.68684\n",
            "Época:  74 Loss Treinamento:  10511.008345826944 Acurácia Treinamento:  0.68682\n",
            "Época:  75 Loss Treinamento:  10509.212266817874 Acurácia Treinamento:  0.68696\n",
            "Época:  76 Loss Treinamento:  10507.458175965474 Acurácia Treinamento:  0.68696\n",
            "Época:  77 Loss Treinamento:  10505.744553490758 Acurácia Treinamento:  0.68706\n",
            "Época:  78 Loss Treinamento:  10504.069954147653 Acurácia Treinamento:  0.687\n",
            "Época:  79 Loss Treinamento:  10502.433002627911 Acurácia Treinamento:  0.68696\n",
            "Época:  80 Loss Treinamento:  10500.832389303388 Acurácia Treinamento:  0.68716\n",
            "Época:  81 Loss Treinamento:  10499.266866279439 Acurácia Treinamento:  0.68724\n",
            "Época:  82 Loss Treinamento:  10497.735243735437 Acurácia Treinamento:  0.68736\n",
            "Época:  83 Loss Treinamento:  10496.236386522492 Acurácia Treinamento:  0.68734\n",
            "Época:  84 Loss Treinamento:  10494.769211004705 Acurácia Treinamento:  0.68744\n",
            "Época:  85 Loss Treinamento:  10493.332682117987 Acurácia Treinamento:  0.68762\n",
            "Época:  86 Loss Treinamento:  10491.925810633658 Acurácia Treinamento:  0.6878\n",
            "Época:  87 Loss Treinamento:  10490.547650607556 Acurácia Treinamento:  0.68782\n",
            "Época:  88 Loss Treinamento:  10489.197297000588 Acurácia Treinamento:  0.68794\n",
            "Época:  89 Loss Treinamento:  10487.873883457327 Acurácia Treinamento:  0.68806\n",
            "Época:  90 Loss Treinamento:  10486.576580232957 Acurácia Treinamento:  0.68804\n",
            "Época:  91 Loss Treinamento:  10485.304592251161 Acurácia Treinamento:  0.6882\n",
            "Época:  92 Loss Treinamento:  10484.057157290334 Acurácia Treinamento:  0.68826\n",
            "Época:  93 Loss Treinamento:  10482.833544281759 Acurácia Treinamento:  0.68834\n",
            "Época:  94 Loss Treinamento:  10481.63305171672 Acurácia Treinamento:  0.6883\n",
            "Época:  95 Loss Treinamento:  10480.455006151227 Acurácia Treinamento:  0.68818\n",
            "Época:  96 Loss Treinamento:  10479.29876080239 Acurácia Treinamento:  0.68832\n",
            "Época:  97 Loss Treinamento:  10478.1636942301 Acurácia Treinamento:  0.68834\n",
            "Época:  98 Loss Treinamento:  10477.049209096267 Acurácia Treinamento:  0.68844\n",
            "Época:  99 Loss Treinamento:  10475.954730999301 Acurácia Treinamento:  0.68846\n"
          ],
          "name": "stdout"
        },
        {
          "output_type": "display_data",
          "data": {
            "image/png": "[encoded data removed]",
            "text/plain": [
              "<Figure size 432x288 with 1 Axes>"
            ]
          },
          "metadata": {
            "tags": []
          }
        },
        {
          "output_type": "display_data",
          "data": {
            "image/png": "[encoded data removed]",
            "text/plain": [
              "<Figure size 432x288 with 1 Axes>"
            ]
          },
          "metadata": {
            "tags": []
          }
        },
        {
          "output_type": "stream",
          "text": [
            "Acurácia Avaliação:  0.7735\n"
          ],
          "name": "stdout"
        }
      ]
    },
    {
      "metadata": {
        "id": "jkEBQ9nQOnaj",
        "colab_type": "code",
        "colab": {}
      },
      "cell_type": "code",
      "source": [
        "#frog"
      ],
      "execution_count": 0,
      "outputs": []
    },
    {
      "metadata": {
        "id": "tNLzp1ZiOnau",
        "colab_type": "code",
        "colab": {}
      },
      "cell_type": "code",
      "source": [
        "linear_dataset_train_frog = []\n",
        "target_labels = ('frog')\n",
        "for img,category in grayscale_dataset_train:\n",
        "    linear_img = img.reshape(img.shape[0]*img.shape[1],1) / 255\n",
        "    if category in target_labels:\n",
        "        label = 1\n",
        "    else:\n",
        "        label = 0\n",
        "    linear_dataset_train_frog.append((linear_img,label))\n",
        "    \n",
        "linear_dataset_test_frog = []\n",
        "target_labels = ('frog')\n",
        "for img,category in grayscale_dataset_test:\n",
        "    linear_img = img.reshape(img.shape[0]*img.shape[1],1) / 255\n",
        "    if category in target_labels:\n",
        "        label = 1\n",
        "    else:\n",
        "        label = 0\n",
        "    linear_dataset_test_frog.append((linear_img,label)) "
      ],
      "execution_count": 0,
      "outputs": []
    },
    {
      "metadata": {
        "id": "7VBxo_guOna0",
        "colab_type": "code",
        "outputId": "0f588972-1026-4520-f47a-02af6d8e9423",
        "colab": {
          "base_uri": "https://localhost:8080/",
          "height": 2325
        }
      },
      "cell_type": "code",
      "source": [
        "#treinamento \n",
        "\n",
        "new_weights_frog = training(linear_dataset_train_frog)\n",
        "\n",
        "#avaliacao\n",
        "\n",
        "evaluate(new_weights_frog, linear_dataset_test_frog)"
      ],
      "execution_count": 0,
      "outputs": [
        {
          "output_type": "stream",
          "text": [
            "Época:  0 Loss Treinamento:  15023.054996969944 Acurácia Treinamento:  0.53346\n",
            "Época:  1 Loss Treinamento:  14064.271257955406 Acurácia Treinamento:  0.55996\n",
            "Época:  2 Loss Treinamento:  13800.60548871582 Acurácia Treinamento:  0.5655\n",
            "Época:  3 Loss Treinamento:  13632.109460260179 Acurácia Treinamento:  0.5687\n",
            "Época:  4 Loss Treinamento:  13504.106464776827 Acurácia Treinamento:  0.57162\n",
            "Época:  5 Loss Treinamento:  13402.130213281065 Acurácia Treinamento:  0.57244\n",
            "Época:  6 Loss Treinamento:  13319.324123759488 Acurácia Treinamento:  0.57372\n",
            "Época:  7 Loss Treinamento:  13251.208076417379 Acurácia Treinamento:  0.57522\n",
            "Época:  8 Loss Treinamento:  13194.458751836566 Acurácia Treinamento:  0.57614\n",
            "Época:  9 Loss Treinamento:  13146.518926082403 Acurácia Treinamento:  0.57718\n",
            "Época:  10 Loss Treinamento:  13105.420585025671 Acurácia Treinamento:  0.57778\n",
            "Época:  11 Loss Treinamento:  13069.662860326842 Acurácia Treinamento:  0.57888\n",
            "Época:  12 Loss Treinamento:  13038.110261043146 Acurácia Treinamento:  0.57996\n",
            "Época:  13 Loss Treinamento:  13009.907296970452 Acurácia Treinamento:  0.57968\n",
            "Época:  14 Loss Treinamento:  12984.40952203061 Acurácia Treinamento:  0.58008\n",
            "Época:  15 Loss Treinamento:  12961.129807067242 Acurácia Treinamento:  0.58052\n",
            "Época:  16 Loss Treinamento:  12939.697563268135 Acurácia Treinamento:  0.58148\n",
            "Época:  17 Loss Treinamento:  12919.828332022991 Acurácia Treinamento:  0.58222\n",
            "Época:  18 Loss Treinamento:  12901.301352629385 Acurácia Treinamento:  0.58316\n",
            "Época:  19 Loss Treinamento:  12883.943117218034 Acurácia Treinamento:  0.5839\n",
            "Época:  20 Loss Treinamento:  12867.615348625 Acurácia Treinamento:  0.58446\n",
            "Época:  21 Loss Treinamento:  12852.206214520542 Acurácia Treinamento:  0.58524\n",
            "Época:  22 Loss Treinamento:  12837.623896791336 Acurácia Treinamento:  0.5862\n",
            "Época:  23 Loss Treinamento:  12823.791870700383 Acurácia Treinamento:  0.58724\n",
            "Época:  24 Loss Treinamento:  12810.645424644626 Acurácia Treinamento:  0.5876\n",
            "Época:  25 Loss Treinamento:  12798.129080961482 Acurácia Treinamento:  0.5882\n",
            "Época:  26 Loss Treinamento:  12786.19467256312 Acurácia Treinamento:  0.58898\n",
            "Época:  27 Loss Treinamento:  12774.799898348494 Acurácia Treinamento:  0.58906\n",
            "Época:  28 Loss Treinamento:  12763.907229458087 Acurácia Treinamento:  0.58964\n",
            "Época:  29 Loss Treinamento:  12753.483073760075 Acurácia Treinamento:  0.58958\n",
            "Época:  30 Loss Treinamento:  12743.497131351593 Acurácia Treinamento:  0.59042\n",
            "Época:  31 Loss Treinamento:  12733.921892138926 Acurácia Treinamento:  0.59062\n",
            "Época:  32 Loss Treinamento:  12724.73223974344 Acurácia Treinamento:  0.59076\n",
            "Época:  33 Loss Treinamento:  12715.905135501189 Acurácia Treinamento:  0.59042\n",
            "Época:  34 Loss Treinamento:  12707.419363231887 Acurácia Treinamento:  0.59062\n",
            "Época:  35 Loss Treinamento:  12699.25532047325 Acurácia Treinamento:  0.59096\n",
            "Época:  36 Loss Treinamento:  12691.39484553855 Acurácia Treinamento:  0.59118\n",
            "Época:  37 Loss Treinamento:  12683.821072448218 Acurácia Treinamento:  0.59166\n",
            "Época:  38 Loss Treinamento:  12676.518307750883 Acurácia Treinamento:  0.59194\n",
            "Época:  39 Loss Treinamento:  12669.471924722468 Acurácia Treinamento:  0.59224\n",
            "Época:  40 Loss Treinamento:  12662.668271501101 Acurácia Treinamento:  0.5925\n",
            "Época:  41 Loss Treinamento:  12656.094590534807 Acurácia Treinamento:  0.59282\n",
            "Época:  42 Loss Treinamento:  12649.738947312091 Acurácia Treinamento:  0.59332\n",
            "Época:  43 Loss Treinamento:  12643.590166807235 Acurácia Treinamento:  0.5936\n",
            "Época:  44 Loss Treinamento:  12637.637776409598 Acurácia Treinamento:  0.5936\n",
            "Época:  45 Loss Treinamento:  12631.87195436568 Acurácia Treinamento:  0.59356\n",
            "Época:  46 Loss Treinamento:  12626.28348296246 Acurácia Treinamento:  0.5938\n",
            "Época:  47 Loss Treinamento:  12620.863705831514 Acurácia Treinamento:  0.594\n",
            "Época:  48 Loss Treinamento:  12615.604488864192 Acurácia Treinamento:  0.59418\n",
            "Época:  49 Loss Treinamento:  12610.498184325257 Acurácia Treinamento:  0.59452\n",
            "Época:  50 Loss Treinamento:  12605.537597818311 Acurácia Treinamento:  0.5947\n",
            "Época:  51 Loss Treinamento:  12600.715957809323 Acurácia Treinamento:  0.59484\n",
            "Época:  52 Loss Treinamento:  12596.026887463227 Acurácia Treinamento:  0.59514\n",
            "Época:  53 Loss Treinamento:  12591.464378576366 Acurácia Treinamento:  0.5952\n",
            "Época:  54 Loss Treinamento:  12587.022767421413 Acurácia Treinamento:  0.59544\n",
            "Época:  55 Loss Treinamento:  12582.696712340776 Acurácia Treinamento:  0.59552\n",
            "Época:  56 Loss Treinamento:  12578.48117294102 Acurácia Treinamento:  0.59558\n",
            "Época:  57 Loss Treinamento:  12574.371390763743 Acurácia Treinamento:  0.59578\n",
            "Época:  58 Loss Treinamento:  12570.362871312513 Acurácia Treinamento:  0.5959\n",
            "Época:  59 Loss Treinamento:  12566.451367331745 Acurácia Treinamento:  0.59588\n",
            "Época:  60 Loss Treinamento:  12562.632863244418 Acurácia Treinamento:  0.5962\n",
            "Época:  61 Loss Treinamento:  12558.90356065858 Acurácia Treinamento:  0.59618\n",
            "Época:  62 Loss Treinamento:  12555.259864864596 Acurácia Treinamento:  0.59626\n",
            "Época:  63 Loss Treinamento:  12551.698372249943 Acurácia Treinamento:  0.59644\n",
            "Época:  64 Loss Treinamento:  12548.215858565369 Acurácia Treinamento:  0.59646\n",
            "Época:  65 Loss Treinamento:  12544.80926797968 Acurácia Treinamento:  0.5965\n",
            "Época:  66 Loss Treinamento:  12541.475702864476 Acurácia Treinamento:  0.59666\n",
            "Época:  67 Loss Treinamento:  12538.212414262905 Acurácia Treinamento:  0.59674\n",
            "Época:  68 Loss Treinamento:  12535.016792984641 Acurácia Treinamento:  0.59684\n",
            "Época:  69 Loss Treinamento:  12531.886361290794 Acurácia Treinamento:  0.59684\n",
            "Época:  70 Loss Treinamento:  12528.81876512206 Acurácia Treinamento:  0.5971\n",
            "Época:  71 Loss Treinamento:  12525.811766834167 Acurácia Treinamento:  0.59706\n",
            "Época:  72 Loss Treinamento:  12522.863238404221 Acurácia Treinamento:  0.59724\n",
            "Época:  73 Loss Treinamento:  12519.971155075009 Acurácia Treinamento:  0.59748\n",
            "Época:  74 Loss Treinamento:  12517.133589408733 Acurácia Treinamento:  0.59774\n",
            "Época:  75 Loss Treinamento:  12514.348705718476 Acurácia Treinamento:  0.59786\n",
            "Época:  76 Loss Treinamento:  12511.614754855873 Acurácia Treinamento:  0.59804\n",
            "Época:  77 Loss Treinamento:  12508.930069324842 Acurácia Treinamento:  0.59818\n",
            "Época:  78 Loss Treinamento:  12506.293058706018 Acurácia Treinamento:  0.59846\n",
            "Época:  79 Loss Treinamento:  12503.70220536461 Acurácia Treinamento:  0.59856\n",
            "Época:  80 Loss Treinamento:  12501.156060426289 Acurácia Treinamento:  0.59868\n",
            "Época:  81 Loss Treinamento:  12498.653240002655 Acurácia Treinamento:  0.59874\n",
            "Época:  82 Loss Treinamento:  12496.192421646641 Acurácia Treinamento:  0.59886\n",
            "Época:  83 Loss Treinamento:  12493.772341027334 Acurácia Treinamento:  0.59888\n",
            "Época:  84 Loss Treinamento:  12491.391788805964 Acurácia Treinamento:  0.59892\n",
            "Época:  85 Loss Treinamento:  12489.04960770039 Acurácia Treinamento:  0.59908\n",
            "Época:  86 Loss Treinamento:  12486.74468972757 Acurácia Treinamento:  0.59924\n",
            "Época:  87 Loss Treinamento:  12484.475973610004 Acurácia Treinamento:  0.59934\n",
            "Época:  88 Loss Treinamento:  12482.242442337672 Acurácia Treinamento:  0.59942\n",
            "Época:  89 Loss Treinamento:  12480.04312087242 Acurácia Treinamento:  0.59952\n",
            "Época:  90 Loss Treinamento:  12477.877073989905 Acurácia Treinamento:  0.5998\n",
            "Época:  91 Loss Treinamento:  12475.743404245262 Acurácia Treinamento:  0.59984\n",
            "Época:  92 Loss Treinamento:  12473.64125006021 Acurácia Treinamento:  0.59994\n",
            "Época:  93 Loss Treinamento:  12471.569783916912 Acurácia Treinamento:  0.60008\n",
            "Época:  94 Loss Treinamento:  12469.528210660597 Acurácia Treinamento:  0.60008\n",
            "Época:  95 Loss Treinamento:  12467.515765893984 Acurácia Treinamento:  0.6003\n",
            "Época:  96 Loss Treinamento:  12465.531714468267 Acurácia Treinamento:  0.60018\n",
            "Época:  97 Loss Treinamento:  12463.575349054208 Acurácia Treinamento:  0.60018\n",
            "Época:  98 Loss Treinamento:  12461.645988799546 Acurácia Treinamento:  0.60038\n",
            "Época:  99 Loss Treinamento:  12459.742978055257 Acurácia Treinamento:  0.6005\n"
          ],
          "name": "stdout"
        },
        {
          "output_type": "display_data",
          "data": {
            "image/png": "[encoded data removed]",
            "text/plain": [
              "<Figure size 432x288 with 1 Axes>"
            ]
          },
          "metadata": {
            "tags": []
          }
        },
        {
          "output_type": "display_data",
          "data": {
            "image/png": "[encoded data removed]",
            "text/plain": [
              "<Figure size 432x288 with 1 Axes>"
            ]
          },
          "metadata": {
            "tags": []
          }
        },
        {
          "output_type": "stream",
          "text": [
            "Acurácia Avaliação:  0.7293\n"
          ],
          "name": "stdout"
        }
      ]
    },
    {
      "metadata": {
        "id": "hueR-eydOna9",
        "colab_type": "code",
        "colab": {}
      },
      "cell_type": "code",
      "source": [
        "#truck"
      ],
      "execution_count": 0,
      "outputs": []
    },
    {
      "metadata": {
        "id": "JMO5CQAHOnbI",
        "colab_type": "code",
        "colab": {}
      },
      "cell_type": "code",
      "source": [
        "linear_dataset_train_truck = []\n",
        "target_labels = ('truck')\n",
        "for img,category in grayscale_dataset_train:\n",
        "    linear_img = img.reshape(img.shape[0]*img.shape[1],1) / 255\n",
        "    if category in target_labels:\n",
        "        label = 1\n",
        "    else:\n",
        "        label = 0\n",
        "    linear_dataset_train_truck.append((linear_img,label))\n",
        "    \n",
        "linear_dataset_test_truck = []\n",
        "target_labels = ('truck')\n",
        "for img,category in grayscale_dataset_test:\n",
        "    linear_img = img.reshape(img.shape[0]*img.shape[1],1) / 255\n",
        "    if category in target_labels:\n",
        "        label = 1\n",
        "    else:\n",
        "        label = 0\n",
        "    linear_dataset_test_truck.append((linear_img,label)) "
      ],
      "execution_count": 0,
      "outputs": []
    },
    {
      "metadata": {
        "id": "ChuKnXDeOnbP",
        "colab_type": "code",
        "outputId": "61d17eec-f96d-40c5-f06e-e1f3591ddd1b",
        "colab": {
          "base_uri": "https://localhost:8080/",
          "height": 2325
        }
      },
      "cell_type": "code",
      "source": [
        "#treinamento \n",
        "\n",
        "new_weights_truck = training(linear_dataset_train_truck)\n",
        "\n",
        "#avaliacao\n",
        "\n",
        "evaluate(new_weights_truck, linear_dataset_test_truck)"
      ],
      "execution_count": 0,
      "outputs": [
        {
          "output_type": "stream",
          "text": [
            "Época:  0 Loss Treinamento:  11787.28533169502 Acurácia Treinamento:  0.67464\n",
            "Época:  1 Loss Treinamento:  10572.16155828114 Acurácia Treinamento:  0.71134\n",
            "Época:  2 Loss Treinamento:  10240.817437766182 Acurácia Treinamento:  0.71832\n",
            "Época:  3 Loss Treinamento:  10037.887060610874 Acurácia Treinamento:  0.72194\n",
            "Época:  4 Loss Treinamento:  9894.694836825576 Acurácia Treinamento:  0.7248\n",
            "Época:  5 Loss Treinamento:  9785.750885102898 Acurácia Treinamento:  0.727\n",
            "Época:  6 Loss Treinamento:  9697.61482427444 Acurácia Treinamento:  0.7278\n",
            "Época:  7 Loss Treinamento:  9623.253469472484 Acurácia Treinamento:  0.72986\n",
            "Época:  8 Loss Treinamento:  9558.993363106256 Acurácia Treinamento:  0.73218\n",
            "Época:  9 Loss Treinamento:  9502.743520069596 Acurácia Treinamento:  0.73392\n",
            "Época:  10 Loss Treinamento:  9453.138661308327 Acurácia Treinamento:  0.73478\n",
            "Época:  11 Loss Treinamento:  9409.171017503233 Acurácia Treinamento:  0.73602\n",
            "Época:  12 Loss Treinamento:  9370.036001352562 Acurácia Treinamento:  0.73716\n",
            "Época:  13 Loss Treinamento:  9335.065080754712 Acurácia Treinamento:  0.73752\n",
            "Época:  14 Loss Treinamento:  9303.693350425076 Acurácia Treinamento:  0.73864\n",
            "Época:  15 Loss Treinamento:  9275.440746614187 Acurácia Treinamento:  0.73918\n",
            "Época:  16 Loss Treinamento:  9249.898735628958 Acurácia Treinamento:  0.73956\n",
            "Época:  17 Loss Treinamento:  9226.719509552384 Acurácia Treinamento:  0.74008\n",
            "Época:  18 Loss Treinamento:  9205.606721512268 Acurácia Treinamento:  0.74096\n",
            "Época:  19 Loss Treinamento:  9186.307475085248 Acurácia Treinamento:  0.74152\n",
            "Época:  20 Loss Treinamento:  9168.605460450775 Acurácia Treinamento:  0.7418\n",
            "Época:  21 Loss Treinamento:  9152.31514372314 Acurácia Treinamento:  0.74256\n",
            "Época:  22 Loss Treinamento:  9137.276895540397 Acurácia Treinamento:  0.74296\n",
            "Época:  23 Loss Treinamento:  9123.352931552043 Acurácia Treinamento:  0.74368\n",
            "Época:  24 Loss Treinamento:  9110.423937881344 Acurácia Treinamento:  0.74416\n",
            "Época:  25 Loss Treinamento:  9098.386265280486 Acurácia Treinamento:  0.74456\n",
            "Época:  26 Loss Treinamento:  9087.149591283442 Acurácia Treinamento:  0.74496\n",
            "Época:  27 Loss Treinamento:  9076.634966262967 Acurácia Treinamento:  0.7451\n",
            "Época:  28 Loss Treinamento:  9066.773174641938 Acurácia Treinamento:  0.74558\n",
            "Época:  29 Loss Treinamento:  9057.503355639057 Acurácia Treinamento:  0.74612\n",
            "Época:  30 Loss Treinamento:  9048.771838672938 Acurácia Treinamento:  0.74648\n",
            "Época:  31 Loss Treinamento:  9040.531157133022 Acurácia Treinamento:  0.74698\n",
            "Época:  32 Loss Treinamento:  9032.739211006565 Acurácia Treinamento:  0.74696\n",
            "Época:  33 Loss Treinamento:  9025.358554212467 Acurácia Treinamento:  0.74698\n",
            "Época:  34 Loss Treinamento:  9018.355786740949 Acurácia Treinamento:  0.74746\n",
            "Época:  35 Loss Treinamento:  9011.701035113352 Acurácia Treinamento:  0.74752\n",
            "Época:  36 Loss Treinamento:  9005.367507427147 Acurácia Treinamento:  0.74782\n",
            "Época:  37 Loss Treinamento:  8999.331111507734 Acurácia Treinamento:  0.74786\n",
            "Época:  38 Loss Treinamento:  8993.570126541792 Acurácia Treinamento:  0.74808\n",
            "Época:  39 Loss Treinamento:  8988.0649201044 Acurácia Treinamento:  0.7482\n",
            "Época:  40 Loss Treinamento:  8982.797703774635 Acurácia Treinamento:  0.74838\n",
            "Época:  41 Loss Treinamento:  8977.752321604694 Acurácia Treinamento:  0.74836\n",
            "Época:  42 Loss Treinamento:  8972.914066601306 Acurácia Treinamento:  0.74846\n",
            "Época:  43 Loss Treinamento:  8968.269521137914 Acurácia Treinamento:  0.74852\n",
            "Época:  44 Loss Treinamento:  8963.806417840158 Acurácia Treinamento:  0.74872\n",
            "Época:  45 Loss Treinamento:  8959.5135180255 Acurácia Treinamento:  0.74876\n",
            "Época:  46 Loss Treinamento:  8955.38050521737 Acurácia Treinamento:  0.7489\n",
            "Época:  47 Loss Treinamento:  8951.397891638975 Acurácia Treinamento:  0.7491\n",
            "Época:  48 Loss Treinamento:  8947.55693589638 Acurácia Treinamento:  0.74914\n",
            "Época:  49 Loss Treinamento:  8943.84957034059 Acurácia Treinamento:  0.74918\n",
            "Época:  50 Loss Treinamento:  8940.26833680935 Acurácia Treinamento:  0.7493\n",
            "Época:  51 Loss Treinamento:  8936.806329648442 Acurácia Treinamento:  0.74928\n",
            "Época:  52 Loss Treinamento:  8933.457145068382 Acurácia Treinamento:  0.74934\n",
            "Época:  53 Loss Treinamento:  8930.214836026858 Acurácia Treinamento:  0.74954\n",
            "Época:  54 Loss Treinamento:  8927.073871943207 Acurácia Treinamento:  0.7495\n",
            "Época:  55 Loss Treinamento:  8924.029102648774 Acurácia Treinamento:  0.74942\n",
            "Época:  56 Loss Treinamento:  8921.075726057259 Acurácia Treinamento:  0.74944\n",
            "Época:  57 Loss Treinamento:  8918.209259110936 Acurácia Treinamento:  0.74946\n",
            "Época:  58 Loss Treinamento:  8915.4255116183 Acurácia Treinamento:  0.74938\n",
            "Época:  59 Loss Treinamento:  8912.720562647708 Acurácia Treinamento:  0.74958\n",
            "Época:  60 Loss Treinamento:  8910.090739189085 Acurácia Treinamento:  0.74958\n",
            "Época:  61 Loss Treinamento:  8907.532596827943 Acurácia Treinamento:  0.74964\n",
            "Época:  62 Loss Treinamento:  8905.042902212646 Acurácia Treinamento:  0.7499\n",
            "Época:  63 Loss Treinamento:  8902.618617120846 Acurácia Treinamento:  0.75008\n",
            "Época:  64 Loss Treinamento:  8900.256883954184 Acurácia Treinamento:  0.75014\n",
            "Época:  65 Loss Treinamento:  8897.955012515331 Acurácia Treinamento:  0.75024\n",
            "Época:  66 Loss Treinamento:  8895.710467931953 Acurácia Treinamento:  0.75054\n",
            "Época:  67 Loss Treinamento:  8893.520859614579 Acurácia Treinamento:  0.75068\n",
            "Época:  68 Loss Treinamento:  8891.383931143804 Acurácia Treinamento:  0.75076\n",
            "Época:  69 Loss Treinamento:  8889.297550997306 Acurácia Treinamento:  0.75082\n",
            "Época:  70 Loss Treinamento:  8887.259704035027 Acurácia Treinamento:  0.7508\n",
            "Época:  71 Loss Treinamento:  8885.268483670647 Acurácia Treinamento:  0.7507\n",
            "Época:  72 Loss Treinamento:  8883.322084666312 Acurácia Treinamento:  0.75062\n",
            "Época:  73 Loss Treinamento:  8881.418796490401 Acurácia Treinamento:  0.75052\n",
            "Época:  74 Loss Treinamento:  8879.55699719122 Acurácia Treinamento:  0.75052\n",
            "Época:  75 Loss Treinamento:  8877.735147737769 Acurácia Treinamento:  0.7506\n",
            "Época:  76 Loss Treinamento:  8875.951786786532 Acurácia Treinamento:  0.75058\n",
            "Época:  77 Loss Treinamento:  8874.205525838457 Acurácia Treinamento:  0.75066\n",
            "Época:  78 Loss Treinamento:  8872.495044752935 Acurácia Treinamento:  0.75076\n",
            "Época:  79 Loss Treinamento:  8870.819087584827 Acurácia Treinamento:  0.75082\n",
            "Época:  80 Loss Treinamento:  8869.176458723507 Acurácia Treinamento:  0.75082\n",
            "Época:  81 Loss Treinamento:  8867.566019303435 Acurácia Treinamento:  0.75098\n",
            "Época:  82 Loss Treinamento:  8865.986683868186 Acurácia Treinamento:  0.75108\n",
            "Época:  83 Loss Treinamento:  8864.43741726465 Acurácia Treinamento:  0.75106\n",
            "Época:  84 Loss Treinamento:  8862.91723175049 Acurácia Treinamento:  0.75108\n",
            "Época:  85 Loss Treinamento:  8861.425184297534 Acurácia Treinamento:  0.75102\n",
            "Época:  86 Loss Treinamento:  8859.960374078108 Acurácia Treinamento:  0.75102\n",
            "Época:  87 Loss Treinamento:  8858.5219401145 Acurácia Treinamento:  0.75098\n",
            "Época:  88 Loss Treinamento:  8857.109059086557 Acurácia Treinamento:  0.75108\n",
            "Época:  89 Loss Treinamento:  8855.720943279646 Acurácia Treinamento:  0.75108\n",
            "Época:  90 Loss Treinamento:  8854.356838665664 Acurácia Treinamento:  0.7511\n",
            "Época:  91 Loss Treinamento:  8853.016023105582 Acurácia Treinamento:  0.75118\n",
            "Época:  92 Loss Treinamento:  8851.697804666237 Acurácia Treinamento:  0.75116\n",
            "Época:  93 Loss Treinamento:  8850.401520041589 Acurácia Treinamento:  0.75132\n",
            "Época:  94 Loss Treinamento:  8849.12653307199 Acurácia Treinamento:  0.75156\n",
            "Época:  95 Loss Treinamento:  8847.87223335421 Acurácia Treinamento:  0.75158\n",
            "Época:  96 Loss Treinamento:  8846.638034934673 Acurácia Treinamento:  0.75156\n",
            "Época:  97 Loss Treinamento:  8845.423375084018 Acurácia Treinamento:  0.75154\n",
            "Época:  98 Loss Treinamento:  8844.227713140759 Acurácia Treinamento:  0.75172\n",
            "Época:  99 Loss Treinamento:  8843.050529426486 Acurácia Treinamento:  0.75182\n"
          ],
          "name": "stdout"
        },
        {
          "output_type": "display_data",
          "data": {
            "image/png": "[encoded data removed]",
            "text/plain": [
              "<Figure size 432x288 with 1 Axes>"
            ]
          },
          "metadata": {
            "tags": []
          }
        },
        {
          "output_type": "display_data",
          "data": {
            "image/png": "[encoded data removed]",
            "text/plain": [
              "<Figure size 432x288 with 1 Axes>"
            ]
          },
          "metadata": {
            "tags": []
          }
        },
        {
          "output_type": "stream",
          "text": [
            "Acurácia Avaliação:  0.7411\n"
          ],
          "name": "stdout"
        }
      ]
    },
    {
      "metadata": {
        "id": "QlGPWQ1pOnbT",
        "colab_type": "code",
        "colab": {}
      },
      "cell_type": "code",
      "source": [
        "#avaliação final"
      ],
      "execution_count": 0,
      "outputs": []
    },
    {
      "metadata": {
        "id": "SnYjknBoULOg",
        "colab_type": "code",
        "outputId": "ae7ebdf0-1161-4844-d2c2-0706c26063e2",
        "colab": {
          "base_uri": "https://localhost:8080/",
          "height": 34
        }
      },
      "cell_type": "code",
      "source": [
        "linear_dataset_test_final = []\n",
        "\n",
        "\n",
        "w, h = 2, 10;\n",
        "weights_final = [[0 for x in range(w)] for y in range(h)]\n",
        "weights_final[0] = [new_weights_cat, 1]\n",
        "weights_final[1] = [new_weights_dog, 2]\n",
        "weights_final[2] = [new_weights_bird, 3]\n",
        "weights_final[3] = [new_weights_deer, 4]\n",
        "weights_final[4] = [new_weights_horse, 5]\n",
        "weights_final[5] = [new_weights_car, 6]\n",
        "weights_final[6] = [new_weights_plane, 7]\n",
        "weights_final[7] = [new_weights_ship, 8]\n",
        "weights_final[8] = [new_weights_frog, 9]\n",
        "weights_final[9] = [new_weights_truck, 10]\n",
        "\n",
        "#print(weights_final)\n",
        "\n",
        "for img,category in grayscale_dataset_test:\n",
        "    #print(category)\n",
        "    linear_img = img.reshape(img.shape[0]*img.shape[1],1) / 255\n",
        "    if category =='cat':\n",
        "      label = 1\n",
        "    elif category == 'dog':\n",
        "      label = 2\n",
        "    elif category == 'bird':\n",
        "      label = 3\n",
        "    elif category == 'deer':\n",
        "      label = 4\n",
        "    elif category == 'horse':\n",
        "      label = 5\n",
        "    elif category == 'car':\n",
        "      label = 6\n",
        "    elif category == 'plane':\n",
        "      label = 7\n",
        "    elif category == 'ship':\n",
        "      label = 8\n",
        "    elif category == 'frog':\n",
        "      label = 9\n",
        "    elif category == 'truck':\n",
        "      label = 10\n",
        "    linear_dataset_test_final.append((linear_img,label)) \n",
        "    #print(label)\n",
        "\n",
        "\n",
        "maximo = 0\n",
        "pred = 0\n",
        "acertos = 0\n",
        "y_label = []\n",
        "y_pred = []\n",
        "\n",
        "for img,category in linear_dataset_test_final:\n",
        "  img = np.append(img, 1) \n",
        "  y_label = np.append(y_label, category)\n",
        "  for i in range(10):\n",
        "    p = perceptron(img, weights_final[i][0])\n",
        "    \n",
        "    if(p>maximo):\n",
        "      pred = weights_final[i][1];\n",
        "      maximo = p\n",
        "      \n",
        "  y_pred = np.append(y_pred, pred)  \n",
        "  if pred == category:\n",
        "    acertos+=1\n",
        "    \n",
        "  maximo = 0\n",
        "    \n",
        "    \n",
        "  #print(perceptron(img, new_weights_cat))\n",
        "  \n",
        "  \n",
        "  #print(category)\n",
        " \n",
        "  \n",
        "ac_final = acertos/len(linear_dataset_test_final)\n",
        "print(ac_final)\n",
        "\n",
        "cm = confusion_matrix(y_label, y_pred)\n"
      ],
      "execution_count": 0,
      "outputs": [
        {
          "output_type": "stream",
          "text": [
            "0.2509\n"
          ],
          "name": "stdout"
        }
      ]
    },
    {
      "metadata": {
        "id": "h4goqsuKC8Vc",
        "colab_type": "code",
        "outputId": "d65b7d0d-2ee9-40f1-d652-d22441107a1d",
        "colab": {
          "base_uri": "https://localhost:8080/",
          "height": 442
        }
      },
      "cell_type": "code",
      "source": [
        "df_cm = pd.DataFrame(cm, index=classes, columns=classes)\n",
        "plt.figure(figsize=(10,7))\n",
        "sn.heatmap(df_cm, annot=True, cmap=plt.cm.rainbow, fmt='d')\n",
        "plt.ylabel('True Label')\n",
        "plt.xlabel('Predicted Label')\n",
        "plt.show()"
      ],
      "execution_count": 0,
      "outputs": [
        {
          "output_type": "display_data",
          "data": {
            "image/png": "[encoded data removed]",
            "text/plain": [
              "<Figure size 720x504 with 2 Axes>"
            ]
          },
          "metadata": {
            "tags": []
          }
        }
      ]
    }
  ]
}